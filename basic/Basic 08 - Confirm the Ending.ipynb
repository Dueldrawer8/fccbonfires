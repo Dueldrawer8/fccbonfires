{
 "cells": [
  {
   "cell_type": "markdown",
   "metadata": {},
   "source": [
    "# [Bonfire: Confirm the Ending](http://freecodecamp.com/challenges/bonfire-confirm-the-ending)\n",
    "\n",
    "Check if a string (first argument) ends with the given target string (second argument).\n",
    "\n",
    "Remember to use Read-Search-Ask if you get stuck. Write your own code.\n",
    "\n",
    "Here are some helpful links:\n",
    "\n",
    "* [String.substr()](https://developer.mozilla.org/en-US/docs/Web/JavaScript/Reference/Global_Objects/String/substr)"
   ]
  },
  {
   "cell_type": "markdown",
   "metadata": {},
   "source": [
    "## Starting Code:\n",
    "```javascript\n",
    "function end(str, target) {\n",
    "  // \"Never give up and good luck will find you.\"\n",
    "  // -- Falcor\n",
    "  return str;\n",
    "}\n",
    "end('Bastian', 'n');\n",
    "\n",
    "```"
   ]
  },
  {
   "cell_type": "markdown",
   "metadata": {},
   "source": [
    "## Tests"
   ]
  },
  {
   "cell_type": "code",
   "execution_count": 1,
   "metadata": {
    "collapsed": false
   },
   "outputs": [
    {
     "data": {
      "text/plain": [
       "undefined"
      ]
     },
     "execution_count": 1,
     "metadata": {},
     "output_type": "execute_result"
    }
   ],
   "source": [
    "var assert = require('chai').assert;\n",
    "function test(fn) {\n",
    "    assert.strictEqual(fn('Bastian', 'n'), true, 'should equal true if target equals end of string');\n",
    "    assert.strictEqual(fn('Connor', 'n'), false, 'should equal false if target does not equal end of string');\n",
    "    assert.strictEqual(fn('Walking on water and developing software from a specification are easy if both are frozen.', 'specification'), false, 'should equal false if target does not equal end of string');\n",
    "    assert.strictEqual(fn('He has to give me a new name', 'name'), true, 'should equal true if target equals end of string');\n",
    "    assert.strictEqual(fn('If you want to save our world, you must hurry. We dont know how much longer we can withstand the nothing', 'mountain'), false, 'should equal false if target does not equal end of string');\n",
    "    return true\n",
    "}"
   ]
  },
  {
   "cell_type": "markdown",
   "metadata": {},
   "source": [
    "## For loop:"
   ]
  },
  {
   "cell_type": "code",
   "execution_count": 2,
   "metadata": {
    "collapsed": false,
    "scrolled": true
   },
   "outputs": [
    {
     "data": {
      "text/plain": [
       "true"
      ]
     },
     "execution_count": 2,
     "metadata": {},
     "output_type": "execute_result"
    }
   ],
   "source": [
    "function end(str, target) {\n",
    "    var strOffset = str.length - target.length;\n",
    "    for (var i = 0; i < target.length; i++) {\n",
    "        if (target.charAt(i) !== str.charAt(strOffset+i)) {\n",
    "            return false;\n",
    "        }\n",
    "    }\n",
    "    return true;\n",
    "}\n",
    "end('He has to give me a new name', 'name');"
   ]
  },
  {
   "cell_type": "code",
   "execution_count": 3,
   "metadata": {
    "collapsed": false
   },
   "outputs": [
    {
     "data": {
      "text/plain": [
       "true"
      ]
     },
     "execution_count": 3,
     "metadata": {},
     "output_type": "execute_result"
    }
   ],
   "source": [
    "test(end);"
   ]
  },
  {
   "cell_type": "markdown",
   "metadata": {},
   "source": [
    "[Step-By-Step](http://www.pythontutor.com/javascript.html#code=function+end(str,+target%29+%7B%0A++++var+strOffset+%3D+str.length+-+target.length%3B%0A++++for+(var+i+%3D+0%3B+i+%3C+target.length%3B+i%2B%2B%29+%7B%0A++++++++if+(target.charAt(i%29+!%3D%3D+str.charAt(strOffset%2Bi%29%29+%7B%0A++++++++++++return+false%3B%0A++++++++%7D%0A++++%7D%0A++++return+true%3B%0A%7D%0A%0Aend('He+has+to+give+me+a+new+name',+'name'%29%3B&mode=display&origin=opt-frontend.js&cumulative=false&heapPrimitives=false&textReferences=false&py=js&rawInputLstJSON=%5B%5D&curInstr=0)"
   ]
  },
  {
   "cell_type": "markdown",
   "metadata": {},
   "source": [
    "### Notes:\n",
    "* To confirm that `str` ends with `target`, we use a for loop that compares the `i`th char of `target` to the `i`th plus some offset amount char of `str`.\n",
    "  - The offset amount is `str.length - target.length`. \n",
    "  - If the letters are not the same, `return false`.\n",
    "* After the for loop, if the function did not yet return false, that means the `str` ends with `target`, `return true`. "
   ]
  },
  {
   "cell_type": "code",
   "execution_count": 4,
   "metadata": {
    "collapsed": false
   },
   "outputs": [
    {
     "data": {
      "text/plain": [
       "true"
      ]
     },
     "execution_count": 4,
     "metadata": {},
     "output_type": "execute_result"
    }
   ],
   "source": [
    "function end(str, target) {\n",
    "    for (var i = 0, j = str.length-target.length; i < target.length; i++, j++) {\n",
    "        if (target.charAt(i) !== str.charAt(j)) {\n",
    "            return false;\n",
    "        }\n",
    "    }\n",
    "    return true;\n",
    "}\n",
    "end('He has to give me a new name', 'name');"
   ]
  },
  {
   "cell_type": "code",
   "execution_count": 5,
   "metadata": {
    "collapsed": false
   },
   "outputs": [
    {
     "data": {
      "text/plain": [
       "true"
      ]
     },
     "execution_count": 5,
     "metadata": {},
     "output_type": "execute_result"
    }
   ],
   "source": [
    "test(end);"
   ]
  },
  {
   "cell_type": "markdown",
   "metadata": {},
   "source": [
    "[Step-By-Step](http://www.pythontutor.com/javascript.html#code=function+end(str,+target%29+%7B%0A++++for+(var+i+%3D+0,+j+%3D+str.length-target.length%3B+i+%3C+target.length%3B+i%2B%2B,+j%2B%2B%29+%7B%0A++++++++if+(target.charAt(i%29+!%3D%3D+str.charAt(j%29%29+%7B%0A++++++++++++return+false%3B%0A++++++++%7D%0A++++%7D%0A++++return+true%3B%0A%7D%0A%0Aend('He+has+to+give+me+a+new+name',+'name'%29%3B&mode=display&origin=opt-frontend.js&cumulative=false&heapPrimitives=false&textReferences=false&py=js&rawInputLstJSON=%5B%5D&curInstr=0)"
   ]
  },
  {
   "cell_type": "markdown",
   "metadata": {},
   "source": [
    "### Notes:\n",
    "* Uses two variables, `i` and `j`, to track the position for comparison in `str` and `target` respectively. "
   ]
  },
  {
   "cell_type": "code",
   "execution_count": 6,
   "metadata": {
    "collapsed": false
   },
   "outputs": [
    {
     "data": {
      "text/plain": [
       "true"
      ]
     },
     "execution_count": 6,
     "metadata": {},
     "output_type": "execute_result"
    }
   ],
   "source": [
    "function end(str, target) {\n",
    "    for (var i = 1; i <= target.length; i++) {\n",
    "        if (target.charAt(target.length-i) !== str.charAt(str.length-i)) {\n",
    "            return false;\n",
    "        }\n",
    "    }\n",
    "    return true;\n",
    "}\n",
    "end('He has to give me a new name', 'name');"
   ]
  },
  {
   "cell_type": "code",
   "execution_count": 7,
   "metadata": {
    "collapsed": false
   },
   "outputs": [
    {
     "data": {
      "text/plain": [
       "true"
      ]
     },
     "execution_count": 7,
     "metadata": {},
     "output_type": "execute_result"
    }
   ],
   "source": [
    "test(end);"
   ]
  },
  {
   "cell_type": "markdown",
   "metadata": {},
   "source": [
    "[Step-By-Step](http://www.pythontutor.com/javascript.html#code=function+end(str,+target%29+%7B%0A++++for+(var+i+%3D+1%3B+i+%3C%3D+target.length%3B+i%2B%2B%29+%7B%0A++++++++if+(target.charAt(target.length-i%29+!%3D%3D+str.charAt(str.length-i%29%29+%7B%0A++++++++++++return+false%3B%0A++++++++%7D%0A++++%7D%0A++++return+true%3B%0A%7D%0A%0Aend('He+has+to+give+me+a+new+name',+'name'%29%3B&mode=display&origin=opt-frontend.js&cumulative=false&heapPrimitives=false&textReferences=false&py=js&rawInputLstJSON=%5B%5D&curInstr=0)"
   ]
  },
  {
   "cell_type": "markdown",
   "metadata": {},
   "source": [
    "### Notes:\n",
    "* Uses a single variable, `i`, and starts checking that `str` and `target` have the same chars starting from the end of each string."
   ]
  },
  {
   "cell_type": "markdown",
   "metadata": {},
   "source": [
    "## While loop:"
   ]
  },
  {
   "cell_type": "code",
   "execution_count": 8,
   "metadata": {
    "collapsed": false
   },
   "outputs": [
    {
     "data": {
      "text/plain": [
       "true"
      ]
     },
     "execution_count": 8,
     "metadata": {},
     "output_type": "execute_result"
    }
   ],
   "source": [
    "function end(str, target) {\n",
    "    var i = target.length;\n",
    "    var j = str.length;\n",
    "    while (i--) {\n",
    "        if (target.charAt(i) !== str.charAt(--j)) {\n",
    "            return false;\n",
    "        }\n",
    "    }\n",
    "    return true;\n",
    "}\n",
    "end('He has to give me a new name', 'name');"
   ]
  },
  {
   "cell_type": "code",
   "execution_count": 9,
   "metadata": {
    "collapsed": false
   },
   "outputs": [
    {
     "data": {
      "text/plain": [
       "true"
      ]
     },
     "execution_count": 9,
     "metadata": {},
     "output_type": "execute_result"
    }
   ],
   "source": [
    "test(end);"
   ]
  },
  {
   "cell_type": "markdown",
   "metadata": {},
   "source": [
    "[Step-By-Step](http://www.pythontutor.com/javascript.html#code=function+end(str,+target%29+%7B%0A++++var+i+%3D+target.length%3B%0A++++var+j+%3D+str.length%3B%0A++++while+(i--%29+%7B%0A++++++++if+(target.charAt(i%29+!%3D%3D+str.charAt(--j%29%29+%7B%0A++++++++++++return+false%3B%0A++++++++%7D%0A++++%7D%0A++++return+true%3B%0A%7D%0A%0Aend('He+has+to+give+me+a+new+name',+'name'%29%3B&mode=display&origin=opt-frontend.js&cumulative=false&heapPrimitives=false&textReferences=false&py=js&rawInputLstJSON=%5B%5D&curInstr=0)"
   ]
  },
  {
   "cell_type": "markdown",
   "metadata": {},
   "source": [
    "## Functional:"
   ]
  },
  {
   "cell_type": "code",
   "execution_count": 10,
   "metadata": {
    "collapsed": false
   },
   "outputs": [
    {
     "data": {
      "text/plain": [
       "true"
      ]
     },
     "execution_count": 10,
     "metadata": {},
     "output_type": "execute_result"
    }
   ],
   "source": [
    "function end(str, target) {\n",
    "    var expectedStart = str.length - target.length;\n",
    "    return str.indexOf(target, expectedStart) === expectedStart;\n",
    "}\n",
    "end('He has to give me a new name', 'name');"
   ]
  },
  {
   "cell_type": "code",
   "execution_count": 11,
   "metadata": {
    "collapsed": false
   },
   "outputs": [
    {
     "data": {
      "text/plain": [
       "true"
      ]
     },
     "execution_count": 11,
     "metadata": {},
     "output_type": "execute_result"
    }
   ],
   "source": [
    "test(end);"
   ]
  },
  {
   "cell_type": "markdown",
   "metadata": {},
   "source": [
    "[Step-By-Step](http://www.pythontutor.com/javascript.html#code=function+end(str,+target%29+%7B%0A++++var+expectedStart+%3D+str.length+-+target.length%3B%0A++++return+str.indexOf(target,+expectedStart%29+%3D%3D%3D+expectedStart%3B%0A%7D%0A%0Aend('He+has+to+give+me+a+new+name',+'name'%29%3B&mode=display&origin=opt-frontend.js&cumulative=false&heapPrimitives=false&textReferences=false&py=js&rawInputLstJSON=%5B%5D&curInstr=0)"
   ]
  },
  {
   "cell_type": "markdown",
   "metadata": {},
   "source": [
    "### Notes:\n",
    "* [String.indexOf](https://developer.mozilla.org/en-US/docs/Web/JavaScript/Reference/Global_Objects/String/indexOf)\n",
    "* Use `indexOf` to find the starting index of `target` starting from the expected position.\n",
    "  - The expected position starting position of `target` is `str.length-target.length` if `str` ends with `target.\n",
    "* Using `.indexOf` doesn't require creating a string for comparison, as is the case when using `str.substr`."
   ]
  },
  {
   "cell_type": "code",
   "execution_count": 12,
   "metadata": {
    "collapsed": false
   },
   "outputs": [
    {
     "data": {
      "text/plain": [
       "true"
      ]
     },
     "execution_count": 12,
     "metadata": {},
     "output_type": "execute_result"
    }
   ],
   "source": [
    "function end(str, target) {\n",
    "    var endOfStr = str.substr(-target.length);\n",
    "    return endOfStr === target;\n",
    "}\n",
    "end('He has to give me a new name', 'name');"
   ]
  },
  {
   "cell_type": "code",
   "execution_count": 13,
   "metadata": {
    "collapsed": false
   },
   "outputs": [
    {
     "data": {
      "text/plain": [
       "true"
      ]
     },
     "execution_count": 13,
     "metadata": {},
     "output_type": "execute_result"
    }
   ],
   "source": [
    "test(end);"
   ]
  },
  {
   "cell_type": "markdown",
   "metadata": {},
   "source": [
    "[Step-By-Step](http://www.pythontutor.com/javascript.html#code=function+end(str,+target%29+%7B%0A++++var+endOfStr+%3D+str.substr(-target.length%29%3B%0A++++return+endOfStr+%3D%3D%3D+target%3B%0A%7D%0A%0Aend('He+has+to+give+me+a+new+name',+'name'%29%3B&mode=display&origin=opt-frontend.js&cumulative=false&heapPrimitives=false&textReferences=false&py=js&rawInputLstJSON=%5B%5D&curInstr=0)"
   ]
  },
  {
   "cell_type": "code",
   "execution_count": 14,
   "metadata": {
    "collapsed": false
   },
   "outputs": [
    {
     "data": {
      "text/plain": [
       "true"
      ]
     },
     "execution_count": 14,
     "metadata": {},
     "output_type": "execute_result"
    }
   ],
   "source": [
    "function end(str, target) {\n",
    "    return str.substr(-target.length) === target;\n",
    "}\n",
    "end('He has to give me a new name', 'name');"
   ]
  },
  {
   "cell_type": "code",
   "execution_count": 15,
   "metadata": {
    "collapsed": false
   },
   "outputs": [
    {
     "data": {
      "text/plain": [
       "true"
      ]
     },
     "execution_count": 15,
     "metadata": {},
     "output_type": "execute_result"
    }
   ],
   "source": [
    "test(end);"
   ]
  },
  {
   "cell_type": "markdown",
   "metadata": {},
   "source": [
    "### Notes:\n",
    "* [String.substr](https://developer.mozilla.org/en-US/docs/Web/JavaScript/Reference/Global_Objects/String/substr)\n",
    "\n",
    "> Parameters\n",
    "\n",
    "> start  \n",
    "> Location at which to begin extracting characters. If a negative number is given, it is treated as strLength + start where strLength is the length of the string (for example, if start is -3 it is treated as strLength - 3.)  \n",
    "\n",
    ">length  \n",
    "> Optional. The number of characters to extract.\n",
    "\n",
    "* Using negative length of `target`, `-target.length`, as the first argument to `str.substr` and no second argument, returns the string of the last `target.length` chars of str. Return if the result is equal to `target`."
   ]
  },
  {
   "cell_type": "markdown",
   "metadata": {},
   "source": [
    "## RegExp (Warning):"
   ]
  },
  {
   "cell_type": "code",
   "execution_count": 16,
   "metadata": {
    "collapsed": false
   },
   "outputs": [
    {
     "data": {
      "text/plain": [
       "true"
      ]
     },
     "execution_count": 16,
     "metadata": {},
     "output_type": "execute_result"
    }
   ],
   "source": [
    "function end(str, target) {\n",
    "    var re = new RegExp(target + \"$\");\n",
    "    return re.test(str);\n",
    "}\n",
    "end('He has to give me a new name', 'name');"
   ]
  },
  {
   "cell_type": "code",
   "execution_count": 17,
   "metadata": {
    "collapsed": false
   },
   "outputs": [
    {
     "data": {
      "text/plain": [
       "true"
      ]
     },
     "execution_count": 17,
     "metadata": {},
     "output_type": "execute_result"
    }
   ],
   "source": [
    "test(end);"
   ]
  },
  {
   "cell_type": "markdown",
   "metadata": {},
   "source": [
    "[Step-By-Step](http://www.pythontutor.com/javascript.html#code=function+end(str,+target%29+%7B%0A++++var+re+%3D+new+RegExp(target+%2B+%22%24%22%29%3B%0A++++return+re.test(str%29%3B%0A%7D%0A%0Aend('He+has+to+give+me+a+new+name',+'name'%29%3B&mode=display&origin=opt-frontend.js&cumulative=false&heapPrimitives=false&textReferences=false&py=js&rawInputLstJSON=%5B%5D&curInstr=0)"
   ]
  },
  {
   "cell_type": "code",
   "execution_count": 18,
   "metadata": {
    "collapsed": false
   },
   "outputs": [
    {
     "data": {
      "text/plain": [
       "true"
      ]
     },
     "execution_count": 18,
     "metadata": {},
     "output_type": "execute_result"
    }
   ],
   "source": [
    "function end(str, target) {\n",
    "    return new RegExp(target + \"$\").test(str);\n",
    "}\n",
    "end('He has to give me a new name', 'name');"
   ]
  },
  {
   "cell_type": "code",
   "execution_count": 19,
   "metadata": {
    "collapsed": false
   },
   "outputs": [
    {
     "data": {
      "text/plain": [
       "true"
      ]
     },
     "execution_count": 19,
     "metadata": {},
     "output_type": "execute_result"
    }
   ],
   "source": [
    "test(end);"
   ]
  },
  {
   "cell_type": "markdown",
   "metadata": {},
   "source": [
    "### Notes:\n",
    "* Use [`RegExp`](https://developer.mozilla.org/en-US/docs/Web/JavaScript/Reference/Global_Objects/RegExp#Description) constructor to compile a regex for `target + \"$\"`. This will match words that end with `target`.\n",
    "* [`$`](https://developer.mozilla.org/en-US/docs/Web/JavaScript/Guide/Regular_Expressions#special-dollar)\n",
    "* [`RegExp.test`](https://developer.mozilla.org/en-US/docs/Web/JavaScript/Reference/Global_Objects/RegExp/test)\n",
    "* This works for our particular set of test cases, but is rather brittle. It will break if target contains special characters."
   ]
  }
 ],
 "metadata": {
  "kernelspec": {
   "display_name": "Javascript (Node.js)",
   "language": "javascript",
   "name": "javascript"
  },
  "language_info": {
   "file_extension": "js",
   "mimetype": "application/javascript",
   "name": "javascript",
   "version": "0.12.1"
  }
 },
 "nbformat": 4,
 "nbformat_minor": 0
}
