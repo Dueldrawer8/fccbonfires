{
 "cells": [
  {
   "cell_type": "markdown",
   "metadata": {},
   "source": [
    "# [Bonfire: Title Case a Sentence](http://freecodecamp.com/challenges/bonfire-title-case-a-sentence)\n",
    "\n",
    "Return the provided string with the first letter of each word capitalized.\n",
    "\n",
    "For the purpose of this exercise, you should also capitalize connecting words like 'the' and 'of'.\n",
    "\n",
    "Remember to use Read-Search-Ask if you get stuck. Write your own code.\n",
    "\n",
    "Here are some helpful links:\n",
    "\n",
    "* [String.charAt()](http://freecodecamp.com/challenges/bonfire-title-case-a-sentence)"
   ]
  },
  {
   "cell_type": "markdown",
   "metadata": {},
   "source": [
    "## Starting Code:\n",
    "```javascript\n",
    "function titleCase(str) {\n",
    "  return str;\n",
    "}\n",
    "titleCase(\"I'm a little tea pot\");\n",
    "\n",
    "```"
   ]
  },
  {
   "cell_type": "markdown",
   "metadata": {},
   "source": [
    "## Tests"
   ]
  },
  {
   "cell_type": "code",
   "execution_count": 1,
   "metadata": {
    "collapsed": false
   },
   "outputs": [
    {
     "data": {
      "text/plain": [
       "undefined"
      ]
     },
     "execution_count": 1,
     "metadata": {},
     "output_type": "execute_result"
    }
   ],
   "source": [
    "var assert = require('chai').assert;\n",
    "function test(fn) {\n",
    "    assert.typeOf(titleCase(\"I'm a little tea pot\"), 'string');\n",
    "    assert.deepEqual(fn(\"I'm a little tea pot\"), \"I'm A Little Tea Pot\");\n",
    "    assert.deepEqual(fn(\"sHoRt AnD sToUt\"), \"Short And Stout\");\n",
    "    assert.deepEqual(fn(\"HERE IS MY HANDLE HERE IS MY SPOUT\"), \"Here Is My Handle Here Is My Spout\");\n",
    "    return true\n",
    "}"
   ]
  },
  {
   "cell_type": "markdown",
   "metadata": {},
   "source": [
    "### Notes:\n",
    "* In addition to [`String.charAt`](https://developer.mozilla.org/en-US/docs/Web/JavaScript/Reference/Global_Objects/String/charAt), strings can be indexed using [bracket notation](https://developer.mozilla.org/en-US/docs/Web/JavaScript/Reference/Global_Objects/String#Character_access).\n",
    "* [Here](http://stackoverflow.com/questions/5943726/string-charatx-or-stringx) is a discussion about the differences.\n",
    "\n",
    "---\n",
    "* There are a lot of different way to solve this problem. The imperative code is intentionally explicit and avoids using many built-in functions so that the control flow is obvious.\n",
    "* Be sure to check out the bottom of the page where the function solutions are."
   ]
  },
  {
   "cell_type": "markdown",
   "metadata": {},
   "source": [
    "## For loop:"
   ]
  },
  {
   "cell_type": "code",
   "execution_count": 2,
   "metadata": {
    "collapsed": false,
    "scrolled": true
   },
   "outputs": [
    {
     "data": {
      "text/plain": [
       "'I\\'m A Little Tea Pot'"
      ]
     },
     "execution_count": 2,
     "metadata": {},
     "output_type": "execute_result"
    }
   ],
   "source": [
    "function titleCase(str) {\n",
    "    var result = '';\n",
    "    for (var i = 0; i < str.length; i++) {\n",
    "        result += str.charAt(i).toUpperCase();\n",
    "        for (var j = 1; i+j < str.length && str.charAt(i+j) !== ' '; j++) {\n",
    "            result += str.charAt(i+j).toLowerCase();\n",
    "        }\n",
    "        i += j ;\n",
    "        if (i < str.length) {\n",
    "            result += ' ';\n",
    "        }\n",
    "    }\n",
    "    return result;\n",
    "}\n",
    "test(titleCase);\n",
    "titleCase(\"I'm a little tea pot\");"
   ]
  },
  {
   "cell_type": "markdown",
   "metadata": {},
   "source": [
    "[Step-By-Step](http://www.pythontutor.com/javascript.html#code=function+titleCase(str%29+%7B%0A++++var+result+%3D+''%3B%0A++++for+(var+i+%3D+0%3B+i+%3C+str.length%3B+i%2B%2B%29+%7B%0A++++++++result+%2B%3D+str.charAt(i%29.toUpperCase(%29%3B%0A++++++++for+(var+j+%3D+1%3B+i%2Bj+%3C+str.length+%26%26+str.charAt(i%2Bj%29+!%3D%3D+'+'%3B+j%2B%2B%29+%7B%0A++++++++++++result+%2B%3D+str.charAt(i%2Bj%29.toLowerCase(%29%3B%0A++++++++%7D%0A++++++++i+%2B%3D+j+%3B%0A++++++++if+(i+%3C+str.length%29+%7B%0A++++++++++++result+%2B%3D+'+'%3B%0A++++++++%7D%0A++++%7D%0A++++return+result%3B%0A%7D%0A%0AtitleCase(%22I'm+a+little+tea+pot%22%29%3B&mode=display&origin=opt-frontend.js&cumulative=false&heapPrimitives=false&textReferences=false&py=js&rawInputLstJSON=%5B%5D&curInstr=0)"
   ]
  },
  {
   "cell_type": "markdown",
   "metadata": {},
   "source": [
    "### Notes:\n",
    "* Declare and assign variable, `result`, to the initial value of empty string, `''`.\n",
    "\n",
    "---\n",
    "* The outside for loop uses a looping variable, `i`, that starts at `0`, the condition is that `i` is less than the length of the string, `i < str.length`, and `i` is incrementented by `1` per iteration.\n",
    "* Append the uppercase verison of the `.charAt` `i` to the `result`.\n",
    "---\n",
    "* The inner for loop uses a looping variable, `j`, that starts at `1`, the condition for the loop is that `i+j` is less than the length of the string and the char at `i+j` is not a space. `j` is incremented by `1` per iteration.\n",
    "  - This loop will go until the end of the string is reached or a space is encountered.\n",
    "* Append the lowercase version of the `.charAt` `i+j` to the `result`.  \n",
    "* After the inner for loop finishes increment `i` by `j` since `j` characters have been added to the result.\n",
    "* If `i` is less than `str.length` then that means a space was encounterd, append a space to the result.\n",
    "---\n",
    "* When the outer loop finishes, the result variable will have the title cased version of the string, `return result`."
   ]
  },
  {
   "cell_type": "markdown",
   "metadata": {},
   "source": [
    "### Using single looping variable:"
   ]
  },
  {
   "cell_type": "code",
   "execution_count": 3,
   "metadata": {
    "collapsed": false
   },
   "outputs": [
    {
     "data": {
      "text/plain": [
       "'I\\'m A Little Tea Pot'"
      ]
     },
     "execution_count": 3,
     "metadata": {},
     "output_type": "execute_result"
    }
   ],
   "source": [
    "function titleCase(str) {\n",
    "    var result = '';\n",
    "    for (var i = 0; i < str.length; i++) {\n",
    "        result += str.charAt(i).toUpperCase();\n",
    "        for (++i; i < str.length && str.charAt(i) !== ' '; i++) {\n",
    "            result += str.charAt(i).toLowerCase();\n",
    "        }\n",
    "        if (i < str.length) {\n",
    "            result += ' ';\n",
    "        }\n",
    "    }\n",
    "    return result;\n",
    "}\n",
    "test(titleCase);\n",
    "titleCase(\"I'm a little tea pot\");"
   ]
  },
  {
   "cell_type": "markdown",
   "metadata": {},
   "source": [
    "### Reduce number of `toLowerCase()`:"
   ]
  },
  {
   "cell_type": "code",
   "execution_count": 4,
   "metadata": {
    "collapsed": false
   },
   "outputs": [
    {
     "data": {
      "text/plain": [
       "'I\\'m A Little Tea Pot'"
      ]
     },
     "execution_count": 4,
     "metadata": {},
     "output_type": "execute_result"
    }
   ],
   "source": [
    "function titleCase(str) {\n",
    "    var result = '';\n",
    "    var lowercaseStr = str.toLowerCase();\n",
    "    for (var i = 0; i < lowercaseStr.length; i++) {\n",
    "        result += lowercaseStr.charAt(i).toUpperCase();\n",
    "        for (++i; i < lowercaseStr.length && lowercaseStr.charAt(i) !== ' '; i++) {\n",
    "            result += lowercaseStr.charAt(i);\n",
    "        }\n",
    "        if (i < lowercaseStr.length) {\n",
    "            result += ' ';\n",
    "        }\n",
    "    }\n",
    "    return result;\n",
    "}\n",
    "test(titleCase);\n",
    "titleCase(\"I'm a little tea pot\");"
   ]
  },
  {
   "cell_type": "markdown",
   "metadata": {},
   "source": [
    "## While loop:"
   ]
  },
  {
   "cell_type": "code",
   "execution_count": 5,
   "metadata": {
    "collapsed": false
   },
   "outputs": [
    {
     "data": {
      "text/plain": [
       "'I\\'m A Little Tea Pot'"
      ]
     },
     "execution_count": 5,
     "metadata": {},
     "output_type": "execute_result"
    }
   ],
   "source": [
    "function titleCase(str) {\n",
    "    var result = '';\n",
    "    var lowercaseStr = str.toLowerCase();\n",
    "    var i = -1;\n",
    "    while (++i < lowercaseStr.length) {\n",
    "        result += lowercaseStr.charAt(i).toUpperCase();\n",
    "        while (++i < lowercaseStr.length && lowercaseStr.charAt(i) !== ' ') {\n",
    "            result += lowercaseStr.charAt(i);\n",
    "        }\n",
    "        if (i < lowercaseStr.length) {\n",
    "            result += ' ';\n",
    "        }\n",
    "    }\n",
    "    return result;\n",
    "}\n",
    "test(titleCase);\n",
    "titleCase(\"I'm a little tea pot\");"
   ]
  },
  {
   "cell_type": "code",
   "execution_count": 6,
   "metadata": {
    "collapsed": false
   },
   "outputs": [
    {
     "data": {
      "text/plain": [
       "'I\\'m A Little Tea Pot'"
      ]
     },
     "execution_count": 6,
     "metadata": {},
     "output_type": "execute_result"
    }
   ],
   "source": [
    "function titleCase(str) {\n",
    "    var result = '';\n",
    "    var lowercaseStr = str.toLowerCase();\n",
    "    var i = -1;\n",
    "    while (++i < lowercaseStr.length) {\n",
    "        var word = lowercaseStr.charAt(i).toUpperCase();\n",
    "        while (++i < lowercaseStr.length && lowercaseStr.charAt(i) !== ' ') {\n",
    "            word += lowercaseStr.charAt(i);\n",
    "        }\n",
    "        result += word;\n",
    "        if (i < lowercaseStr.length) {\n",
    "            result += ' ';\n",
    "        }\n",
    "    }\n",
    "    return result;\n",
    "}\n",
    "test(titleCase);\n",
    "titleCase(\"I'm a little tea pot\");"
   ]
  },
  {
   "cell_type": "markdown",
   "metadata": {},
   "source": [
    "## Functional:"
   ]
  },
  {
   "cell_type": "code",
   "execution_count": 7,
   "metadata": {
    "collapsed": false
   },
   "outputs": [
    {
     "data": {
      "text/plain": [
       "'I\\'m A Little Tea Pot'"
      ]
     },
     "execution_count": 7,
     "metadata": {},
     "output_type": "execute_result"
    }
   ],
   "source": [
    "function titleCase(str) {\n",
    "    var lowercaseStr = str.toLowerCase();\n",
    "    var wordArray = lowercaseStr.split(' ');\n",
    "    var titleCasedWords = wordArray.map(function(w) {\n",
    "        return w.charAt(0).toUpperCase() + w.slice(1);\n",
    "    });\n",
    "    var titleCasedStr = titleCasedWords.join(' ');\n",
    "    return titleCasedStr;\n",
    "}\n",
    "test(titleCase);\n",
    "titleCase(\"I'm a little tea pot\");"
   ]
  },
  {
   "cell_type": "markdown",
   "metadata": {},
   "source": [
    "[Step-By-Step](http://www.pythontutor.com/javascript.html#code=function+titleCase(str%29+%7B%0A++++var+lowercaseStr+%3D+str.toLowerCase(%29%3B%0A++++var+wordArray+%3D+lowercaseStr.split('+'%29%3B%0A++++var+titleCasedWords+%3D+wordArray.map(function(w%29+%7B%0A++++++++return+w.charAt(0%29.toUpperCase(%29+%2B+w.slice(1%29%3B%0A++++%7D%29%3B%0A++++var+titleCasedStr+%3D+titleCasedWords.join('+'%29%3B%0A++++return+titleCasedStr%3B%0A%7D%0A%0AtitleCase(%22I'm+a+little+tea+pot%22%29%3B&mode=display&origin=opt-frontend.js&cumulative=false&heapPrimitives=false&textReferences=false&py=js&rawInputLstJSON=%5B%5D&curInstr=0)"
   ]
  },
  {
   "cell_type": "code",
   "execution_count": 8,
   "metadata": {
    "collapsed": false,
    "scrolled": true
   },
   "outputs": [
    {
     "data": {
      "text/plain": [
       "'I\\'m A Little Tea Pot'"
      ]
     },
     "execution_count": 8,
     "metadata": {},
     "output_type": "execute_result"
    }
   ],
   "source": [
    "function titleCase(str) {\n",
    "    return str\n",
    "        .toLowerCase()\n",
    "        .split(' ')\n",
    "        .map(function(w) {return w.charAt(0).toUpperCase() + w.slice(1);})\n",
    "        .join(' ');\n",
    "}\n",
    "test(titleCase);\n",
    "titleCase(\"I'm a little tea pot\");"
   ]
  },
  {
   "cell_type": "markdown",
   "metadata": {},
   "source": [
    "### Using [`String.replace`](https://developer.mozilla.org/en-US/docs/Web/JavaScript/Reference/Global_Objects/String/replace) with a function:"
   ]
  },
  {
   "cell_type": "code",
   "execution_count": 9,
   "metadata": {
    "collapsed": false
   },
   "outputs": [
    {
     "data": {
      "text/plain": [
       "'I\\'m A Little Tea Pot'"
      ]
     },
     "execution_count": 9,
     "metadata": {},
     "output_type": "execute_result"
    }
   ],
   "source": [
    "function titleCase(str) {\n",
    "    return str\n",
    "        .toLowerCase()\n",
    "        .replace(/\\S+/g, function(match) {\n",
    "            return match.charAt(0).toUpperCase() + match.slice(1);\n",
    "        });\n",
    "}\n",
    "test(titleCase);\n",
    "titleCase(\"I'm a little tea pot\");"
   ]
  },
  {
   "cell_type": "markdown",
   "metadata": {},
   "source": [
    "[Step-By-Step](http://www.pythontutor.com/javascript.html#code=function+titleCase(str%29+%7B%0A++++return+str%0A++++++++.toLowerCase(%29%0A++++++++.replace(/%5CS%2B/g,+function(match%29+%7B%0A++++++++++++return+match.charAt(0%29.toUpperCase(%29+%2B+match.slice(1%29%3B%0A++++++++%7D%29%3B%0A%7D%0A%0AtitleCase(%22I'm+a+little+tea+pot%22%29%3B&mode=display&origin=opt-frontend.js&cumulative=false&heapPrimitives=false&textReferences=false&py=js&rawInputLstJSON=%5B%5D&curInstr=0)"
   ]
  },
  {
   "cell_type": "markdown",
   "metadata": {},
   "source": [
    "### Notes:\n",
    "* The [`String.replace`](https://developer.mozilla.org/en-US/docs/Web/JavaScript/Reference/Global_Objects/String/replace) function is used to replaces each match with the result of the callback function.\n",
    "  - The regex used for matching is `/\\S+/g`. Each match will be 1 or more non-whitespace characters, See [`\\S`](https://developer.mozilla.org/en-US/docs/Web/JavaScript/Guide/Regular_Expressions#special-non-white-space), [`+`](https://developer.mozilla.org/en-US/docs/Web/JavaScript/Guide/Regular_Expressions#special-plus), and [`g`](https://developer.mozilla.org/en-US/docs/Web/JavaScript/Guide/Regular_Expressions#Advanced_searching_with_flags).\n",
    "  - The callback function used as the second argument returns the match with the `.charAt` `0` uppercased."
   ]
  }
 ],
 "metadata": {
  "kernelspec": {
   "display_name": "Javascript (Node.js)",
   "language": "javascript",
   "name": "javascript"
  },
  "language_info": {
   "file_extension": "js",
   "mimetype": "application/javascript",
   "name": "javascript",
   "version": "0.12.1"
  }
 },
 "nbformat": 4,
 "nbformat_minor": 0
}
