{
 "cells": [
  {
   "cell_type": "markdown",
   "metadata": {},
   "source": [
    "# [Bonfire: Chunky Monkey](http://freecodecamp.com/challenges/bonfire-chunky-monkey)\n",
    "\n",
    "Write a function that splits an array (first argument) into groups the length of size (second argument) and returns them as a multidimensional array.\n",
    "\n",
    "Remember to use Read-Search-Ask if you get stuck. Write your own code.\n",
    "\n",
    "Here are some helpful links:\n",
    "\n",
    "* [Array.push()](https://developer.mozilla.org/en-US/docs/Web/JavaScript/Reference/Global_Objects/Array/push)"
   ]
  },
  {
   "cell_type": "markdown",
   "metadata": {},
   "source": [
    "## Starting Code:\n",
    "```javascript\n",
    "function chunk(arr, size) {\n",
    "  // Break it up.\n",
    "  return arr;\n",
    "}\n",
    "chunk(['a', 'b', 'c', 'd'], 2);\n",
    "\n",
    "```"
   ]
  },
  {
   "cell_type": "markdown",
   "metadata": {},
   "source": [
    "## Tests"
   ]
  },
  {
   "cell_type": "code",
   "execution_count": 1,
   "metadata": {
    "collapsed": false
   },
   "outputs": [
    {
     "data": {
      "text/plain": [
       "undefined"
      ]
     },
     "execution_count": 1,
     "metadata": {},
     "output_type": "execute_result"
    }
   ],
   "source": [
    "var assert = require('chai').assert;\n",
    "function test(fn) {\n",
    "    assert.deepEqual(fn(['a', 'b', 'c', 'd'], 2), [['a', 'b'], ['c', 'd']], 'should return chunked arrays');\n",
    "    assert.deepEqual(fn([0, 1, 2, 3, 4, 5], 3), [[0, 1, 2], [3, 4, 5]], 'should return chunked arrays');\n",
    "    assert.deepEqual(fn([0, 1, 2, 3, 4, 5], 2), [[0, 1], [2, 3], [4, 5]], 'should return chunked arrays');\n",
    "    assert.deepEqual(fn([0, 1, 2, 3, 4, 5], 4), [[0, 1, 2, 3], [4, 5]], 'should return the last chunk as remaining elements');\n",
    "    return true\n",
    "}"
   ]
  },
  {
   "cell_type": "markdown",
   "metadata": {},
   "source": [
    "## For loop:"
   ]
  },
  {
   "cell_type": "code",
   "execution_count": 2,
   "metadata": {
    "collapsed": false,
    "scrolled": true
   },
   "outputs": [
    {
     "data": {
      "text/plain": [
       "[ [ 'a', 'b' ], [ 'c', 'd' ] ]"
      ]
     },
     "execution_count": 2,
     "metadata": {},
     "output_type": "execute_result"
    }
   ],
   "source": [
    "function chunk(arr, size) {\n",
    "    var result = [];\n",
    "    for (var start = 0; start < arr.length; start+=size) {\n",
    "        var chunkArr = [];\n",
    "        for (var index = start; index < arr.length && index < start+size; index++) {\n",
    "            chunkArr.push(arr[index]);\n",
    "        }\n",
    "        result.push(chunkArr);\n",
    "    }\n",
    "    return result;\n",
    "}\n",
    "chunk(['a', 'b', 'c', 'd'], 2);"
   ]
  },
  {
   "cell_type": "code",
   "execution_count": 3,
   "metadata": {
    "collapsed": false
   },
   "outputs": [
    {
     "data": {
      "text/plain": [
       "true"
      ]
     },
     "execution_count": 3,
     "metadata": {},
     "output_type": "execute_result"
    }
   ],
   "source": [
    "test(chunk);"
   ]
  },
  {
   "cell_type": "markdown",
   "metadata": {},
   "source": [
    "[Step-By-Step](http://www.pythontutor.com/javascript.html#code=function+chunk(arr,+size%29+%7B%0A++++var+result+%3D+%5B%5D%3B%0A++++for+(var+start+%3D+0%3B+start+%3C+arr.length%3B+start%2B%3Dsize%29+%7B%0A++++++++var+chunkArr+%3D+%5B%5D%3B%0A++++++++for+(var+index+%3D+start%3B+index+%3C+arr.length+%26%26+index+%3C+start%2Bsize%3B+index%2B%2B%29+%7B%0A++++++++++++chunkArr.push(arr%5Bindex%5D%29%3B%0A++++++++%7D%0A++++++++result.push(chunkArr%29%3B%0A++++%7D%0A++++return+result%3B%0A%7D%0A%0Achunk(%5B'a',+'b',+'c',+'d'%5D,+2%29%3B&mode=display&origin=opt-frontend.js&cumulative=false&heapPrimitives=false&textReferences=false&py=js&rawInputLstJSON=%5B%5D&curInstr=0)"
   ]
  },
  {
   "cell_type": "markdown",
   "metadata": {},
   "source": [
    "### Notes:\n",
    "* Start with creating an array variable, `result`, to accumulate the chunks.\n",
    "* Outer for loop variable, `start`, starts at `0` and is incremented by `size` per iteration while `start` is less than `arr.length`.\n",
    "* Create an array variable, `chunkArr`, to accumulate the elements of the current chunk.\n",
    "---\n",
    "* Inner for loop variable, `index`, starts at `start` and is incremented by `1` per iteration while `index` is less than `arr.length` and `index` is less than `end`.\n",
    "* `.push` the element of `arr` at `index` into `chunkArr`.\n",
    "* When the inner for loop is done, all elements of the current chunk should be in `chunkArr`, `.push` the `chunkArr` to the `result`.\n",
    "---\n",
    "* When the outer for loop is done, all chunks should be in `result`, `return result`."
   ]
  },
  {
   "cell_type": "code",
   "execution_count": 4,
   "metadata": {
    "collapsed": false
   },
   "outputs": [
    {
     "data": {
      "text/plain": [
       "[ [ 'a', 'b' ], [ 'c', 'd' ] ]"
      ]
     },
     "execution_count": 4,
     "metadata": {},
     "output_type": "execute_result"
    }
   ],
   "source": [
    "function chunk(arr, size) {\n",
    "    if (!arr.length) return [];\n",
    "    var result = [[]];\n",
    "    var last = 0;\n",
    "    for (var i = 0; i < arr.length; i++) {\n",
    "        var currElement = arr[i];\n",
    "        if (result[last].length < size) {\n",
    "            result[last].push(currElement);\n",
    "        } else {\n",
    "            var newLastArr = [currElement];\n",
    "            result.push(newLastArr);\n",
    "            last++;\n",
    "        }\n",
    "    }\n",
    "    return result;\n",
    "}\n",
    "chunk(['a', 'b', 'c', 'd'], 2);"
   ]
  },
  {
   "cell_type": "code",
   "execution_count": 5,
   "metadata": {
    "collapsed": false
   },
   "outputs": [
    {
     "data": {
      "text/plain": [
       "true"
      ]
     },
     "execution_count": 5,
     "metadata": {},
     "output_type": "execute_result"
    }
   ],
   "source": [
    "test(chunk);"
   ]
  },
  {
   "cell_type": "markdown",
   "metadata": {},
   "source": [
    "[Step-By-Step](http://www.pythontutor.com/javascript.html#code=function+chunk(arr,+size%29+%7B%0A++++if+(!arr.length%29+return+%5B%5D%3B%0A++++var+result+%3D+%5B%5B%5D%5D%3B%0A++++var+last+%3D+0%3B%0A++++for+(var+i+%3D+0%3B+i+%3C+arr.length%3B+i%2B%2B%29+%7B%0A++++++++var+currElement+%3D+arr%5Bi%5D%3B%0A++++++++if+(result%5Blast%5D.length+%3C+size%29+%7B%0A++++++++++++result%5Blast%5D.push(currElement%29%3B%0A++++++++%7D+else+%7B%0A++++++++++++var+newLastArr+%3D+%5BcurrElement%5D%3B%0A++++++++++++result.push(newLastArr%29%3B%0A++++++++++++last%2B%2B%3B%0A++++++++%7D%0A++++%7D%0A++++return+result%3B%0A%7D%0A%0Achunk(%5B'a',+'b',+'c',+'d'%5D,+2%29%3B&mode=display&origin=opt-frontend.js&cumulative=false&heapPrimitives=false&textReferences=false&py=js&rawInputLstJSON=%5B%5D&curInstr=0)"
   ]
  },
  {
   "cell_type": "markdown",
   "metadata": {},
   "source": [
    "### Notes:\n",
    "* Single for loop variant with an `if` statement inside that determines if a new array need to be added based on the length of the current last array in the `result` array."
   ]
  },
  {
   "cell_type": "markdown",
   "metadata": {},
   "source": [
    "## For loop using `Array.slice`:"
   ]
  },
  {
   "cell_type": "code",
   "execution_count": 6,
   "metadata": {
    "collapsed": false
   },
   "outputs": [
    {
     "data": {
      "text/plain": [
       "[ [ 'a', 'b' ], [ 'c', 'd' ] ]"
      ]
     },
     "execution_count": 6,
     "metadata": {},
     "output_type": "execute_result"
    }
   ],
   "source": [
    "function chunk(arr, size) {\n",
    "    var result = [];\n",
    "    for (var i = 0; i < arr.length; i+=size) {\n",
    "        result.push(arr.slice(i, i+size));\n",
    "    }\n",
    "    return result;\n",
    "}\n",
    "chunk(['a', 'b', 'c', 'd'], 2);"
   ]
  },
  {
   "cell_type": "code",
   "execution_count": 7,
   "metadata": {
    "collapsed": false
   },
   "outputs": [
    {
     "data": {
      "text/plain": [
       "true"
      ]
     },
     "execution_count": 7,
     "metadata": {},
     "output_type": "execute_result"
    }
   ],
   "source": [
    "test(chunk);"
   ]
  },
  {
   "cell_type": "markdown",
   "metadata": {},
   "source": [
    "[Step-By-Step](http://www.pythontutor.com/javascript.html#code=function+chunk(arr,+size%29+%7B%0A++var+result+%3D+%5B%5D%3B%0A++for+(var+i+%3D+0%3B+i+%3C+arr.length%3B+i%2B%3Dsize%29+%0A++++result.push(arr.slice(i,+i%2Bsize%29%29%3B%0A++return+result%3B%0A%7D%0A%0Achunk(%5B'a',+'b',+'c',+'d'%5D,+2%29%3B&mode=display&origin=opt-frontend.js&cumulative=false&heapPrimitives=false&textReferences=false&py=js&rawInputLstJSON=%5B%5D&curInstr=0)"
   ]
  },
  {
   "cell_type": "markdown",
   "metadata": {},
   "source": [
    "### Notes:\n",
    "* Using [`Array.slice`](https://developer.mozilla.org/en-US/docs/Web/JavaScript/Reference/Global_Objects/Array/slice) replaces the inner for loop with a single function call.\n",
    "  - `i` is used for the `begin` argument.\n",
    "  - `i+size` is used for the `end` argument.\n",
    "* `i` is incremented by `size` per iteration."
   ]
  },
  {
   "cell_type": "markdown",
   "metadata": {},
   "source": [
    "## Functional:"
   ]
  },
  {
   "cell_type": "code",
   "execution_count": 8,
   "metadata": {
    "collapsed": false
   },
   "outputs": [
    {
     "data": {
      "text/plain": [
       "[ [ 'a', 'b' ], [ 'c', 'd' ] ]"
      ]
     },
     "execution_count": 8,
     "metadata": {},
     "output_type": "execute_result"
    }
   ],
   "source": [
    "function chunk(arr, size) {\n",
    "    return Array.apply(null, Array((arr.length+size-1)/size|0))\n",
    "        .map(function(_, i) { \n",
    "            return arr.slice(size*i,size*i+size); \n",
    "    });\n",
    "}\n",
    "chunk(['a', 'b', 'c', 'd'], 2);"
   ]
  },
  {
   "cell_type": "code",
   "execution_count": 9,
   "metadata": {
    "collapsed": false
   },
   "outputs": [
    {
     "data": {
      "text/plain": [
       "true"
      ]
     },
     "execution_count": 9,
     "metadata": {},
     "output_type": "execute_result"
    }
   ],
   "source": [
    "test(chunk);"
   ]
  },
  {
   "cell_type": "markdown",
   "metadata": {},
   "source": [
    "### Notes:\n",
    "* These functional solutions all seem a bit hacky and harder to read than the imperative/hybrid versions.\n",
    "* `Array.apply` called with `null`, and `Array((arr.length+size-1)/size|0)` creates an array that we can iterate over with the correct number of elements.\n",
    "  - `Array((arr.length+size-1)/size|0)` creates an array with the correct length\n",
    "    + `(arr.length+size-1)/size`, The two cases we are concerned with are: \n",
    "      * size divides arr.length evenly, e.g.: $length = 4$, $size = 2$, result in $\\frac{4+2-1}{2} = 2.5$ \n",
    "      * size doesn't divide arr.length evenly, e.g.: $length = 5$, $size = 2$, results in $\\frac{5+2-1}{2} = 3$  \n",
    "    + Bitwise or, `|`, is then used on that result to floor the number.\n",
    "      * http://stackoverflow.com/questions/7487977/using-bitwise-or-0-to-floor-a-number\n",
    "* After creating an array of the desired size, we can use `.map` and return slices of `arr` using the `index` argument of the `map` callback."
   ]
  },
  {
   "cell_type": "code",
   "execution_count": 10,
   "metadata": {
    "collapsed": false
   },
   "outputs": [
    {
     "data": {
      "text/plain": [
       "[ [ 'a', 'b' ], [ 'c', 'd' ] ]"
      ]
     },
     "execution_count": 10,
     "metadata": {},
     "output_type": "execute_result"
    }
   ],
   "source": [
    "function chunk(arr, size) {\n",
    "    return arr.slice(0 ,(arr.length+size-1)/size|0)\n",
    "        .map(function(_, i) { \n",
    "            return arr.slice(size*i,size*i+size); \n",
    "    });\n",
    "}\n",
    "chunk(['a', 'b', 'c', 'd'], 2);"
   ]
  },
  {
   "cell_type": "markdown",
   "metadata": {},
   "source": [
    "### Notes:\n",
    "* An alternative to using `Array.apply` to create an array is just to `.slice` our orginal array using `0` as the begin argument and `(arr.length+size-1)/size|0` as the end argument. This returns a shallow copy of the array, but we aren't using the values of this array anyways so it doesn't matter.\n",
    "  - The purpose of the first `arr.slice` is just to create an array we can iterate over. "
   ]
  },
  {
   "cell_type": "code",
   "execution_count": 11,
   "metadata": {
    "collapsed": false
   },
   "outputs": [
    {
     "data": {
      "text/plain": [
       "[ [ 'a', 'b' ], [ 'c', 'd' ] ]"
      ]
     },
     "execution_count": 11,
     "metadata": {},
     "output_type": "execute_result"
    }
   ],
   "source": [
    "function chunk(arr, size) {\n",
    "    return arr.reduce(function(a, b, i) {\n",
    "        if (i%size === 0) a.push([]);\n",
    "        a[i/size|0].push(b);\n",
    "        return a;\n",
    "    }, []);\n",
    "}\n",
    "chunk(['a', 'b', 'c', 'd'], 2);"
   ]
  },
  {
   "cell_type": "code",
   "execution_count": 12,
   "metadata": {
    "collapsed": false
   },
   "outputs": [
    {
     "data": {
      "text/plain": [
       "true"
      ]
     },
     "execution_count": 12,
     "metadata": {},
     "output_type": "execute_result"
    }
   ],
   "source": [
    "test(chunk);"
   ]
  },
  {
   "cell_type": "markdown",
   "metadata": {},
   "source": [
    "### Notes:\n",
    "* Iterate over the elements in `arr` using `reduce` starting with an empty array, `[]`, for the starting value.\n",
    "* For each iteration, `b` is the current value. \n",
    "  - If the index argument, `i`, is divisible by `size`, push an empty array into the accumulator array.\n",
    "  - `.push` the current value into the array at `a[i/size|0]`\n",
    "* `return` the result of the reduce function."
   ]
  },
  {
   "cell_type": "code",
   "execution_count": 13,
   "metadata": {
    "collapsed": false
   },
   "outputs": [
    {
     "data": {
      "text/plain": [
       "[ [ 'a', 'b' ], [ 'c', 'd' ] ]"
      ]
     },
     "execution_count": 13,
     "metadata": {},
     "output_type": "execute_result"
    }
   ],
   "source": [
    "function chunk(arr, size) {\n",
    "    return arr.reduce(function(a, b, i) {\n",
    "        (a[i/size|0] = a[i/size|0] || []).push(b);\n",
    "        return a;\n",
    "    }, []);\n",
    "}\n",
    "chunk(['a', 'b', 'c', 'd'], 2);"
   ]
  },
  {
   "cell_type": "code",
   "execution_count": 14,
   "metadata": {
    "collapsed": false,
    "scrolled": true
   },
   "outputs": [
    {
     "data": {
      "text/plain": [
       "true"
      ]
     },
     "execution_count": 14,
     "metadata": {},
     "output_type": "execute_result"
    }
   ],
   "source": [
    "test(chunk);"
   ]
  },
  {
   "cell_type": "markdown",
   "metadata": {},
   "source": [
    "### Notes:\n",
    "* Same as the previous solution except it uses assignment with `||` to `a[i/size|0]` as a hacky way of pushing an empty array when needed.\n",
    "  - If `a[i/size|0]` is undefined in our accumulator, the `||` will make it so `a[i/size|0]` is assigned to an empty array, `[]`.\n",
    "  - If `a[i/size|0]` is defined, then it assigns itself to itself resulting in a noop.\n",
    "  - The result of the assignment is used as the array `.push` is called on."
   ]
  }
 ],
 "metadata": {
  "kernelspec": {
   "display_name": "Javascript (Node.js)",
   "language": "javascript",
   "name": "javascript"
  },
  "language_info": {
   "file_extension": "js",
   "mimetype": "application/javascript",
   "name": "javascript",
   "version": "0.12.1"
  }
 },
 "nbformat": 4,
 "nbformat_minor": 0
}
