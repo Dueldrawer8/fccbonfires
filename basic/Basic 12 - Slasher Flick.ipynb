{
 "cells": [
  {
   "cell_type": "markdown",
   "metadata": {},
   "source": [
    "# [Bonfire: Slasher Flick](http://freecodecamp.com/challenges/bonfire-slasher-flick)\n",
    "\n",
    "Return the remaining elements of an array after chopping off n elements from the head.\n",
    "\n",
    "Remember to use Read-Search-Ask if you get stuck. Write your own code.\n",
    "\n",
    "Here are some helpful links:\n",
    "\n",
    "* [Array.slice()](https://developer.mozilla.org/en-US/docs/Web/JavaScript/Reference/Global_Objects/Array/slice)\n",
    "* [Array.splice()](https://developer.mozilla.org/en-US/docs/Web/JavaScript/Reference/Global_Objects/Array/splice)"
   ]
  },
  {
   "cell_type": "markdown",
   "metadata": {},
   "source": [
    "## Starting Code:\n",
    "```javascript\n",
    "function slasher(arr, howMany) {\n",
    "  // it doesn't always pay to be first\n",
    "  return arr;\n",
    "}\n",
    "slasher([1, 2, 3], 2);\n",
    "\n",
    "```"
   ]
  },
  {
   "cell_type": "markdown",
   "metadata": {},
   "source": [
    "## Tests"
   ]
  },
  {
   "cell_type": "code",
   "execution_count": 1,
   "metadata": {
    "collapsed": false
   },
   "outputs": [
    {
     "data": {
      "text/plain": [
       "undefined"
      ]
     },
     "execution_count": 1,
     "metadata": {},
     "output_type": "execute_result"
    }
   ],
   "source": [
    "var assert = require('chai').assert;\n",
    "function test(fn) {\n",
    "    assert.deepEqual(fn([1, 2, 3], 2), [3], 'should drop the first two elements');\n",
    "    assert.deepEqual(fn([1, 2, 3], 0), [1, 2, 3], 'should return all elements');\n",
    "    assert.deepEqual(fn([1, 2, 3], 9), [], 'should return an empty array');\n",
    "    return true\n",
    "}"
   ]
  },
  {
   "cell_type": "markdown",
   "metadata": {},
   "source": [
    "## For loop:"
   ]
  },
  {
   "cell_type": "code",
   "execution_count": 3,
   "metadata": {
    "collapsed": false,
    "scrolled": true
   },
   "outputs": [
    {
     "data": {
      "text/plain": [
       "[ 3 ]"
      ]
     },
     "execution_count": 3,
     "metadata": {},
     "output_type": "execute_result"
    }
   ],
   "source": [
    "function slasher(arr, howMany) {\n",
    "    var result = [];\n",
    "    for (var i = howMany; i < arr.length; i++) {\n",
    "        result.push(arr[i]);\n",
    "    }\n",
    "    return result;\n",
    "}\n",
    "slasher([1, 2, 3], 2);"
   ]
  },
  {
   "cell_type": "code",
   "execution_count": 5,
   "metadata": {
    "collapsed": false
   },
   "outputs": [
    {
     "data": {
      "text/plain": [
       "true"
      ]
     },
     "execution_count": 5,
     "metadata": {},
     "output_type": "execute_result"
    }
   ],
   "source": [
    "test(slasher);"
   ]
  },
  {
   "cell_type": "markdown",
   "metadata": {},
   "source": [
    "[Step-By-Step](http://www.pythontutor.com/javascript.html#code=function+slasher(arr,+howMany%29+%7B%0A++++var+result+%3D+%5B%5D%3B%0A++++for+(var+i+%3D+howMany%3B+i+%3C+arr.length%3B+i%2B%2B%29+%7B%0A++++++++result.push(arr%5Bi%5D%29%3B%0A++++%7D%0A++++return+result%3B%0A%7D%0A%0Aslasher(%5B1,+2,+3%5D,+2%29%3B&mode=display&origin=opt-frontend.js&cumulative=false&heapPrimitives=false&textReferences=false&py=js&rawInputLstJSON=%5B%5D&curInstr=0)"
   ]
  },
  {
   "cell_type": "markdown",
   "metadata": {},
   "source": [
    "### Notes:\n",
    "* Assign an empty array, `[]`, to a variable, `result`.\n",
    "* Iterate over `arr` with a variable, `i`, starting at index `howMany`.\n",
    "  - `.push` each element at `i` of `arr` to `result`.\n",
    "* `return result`."
   ]
  },
  {
   "cell_type": "markdown",
   "metadata": {},
   "source": [
    "## Functional:"
   ]
  },
  {
   "cell_type": "code",
   "execution_count": 8,
   "metadata": {
    "collapsed": false
   },
   "outputs": [
    {
     "data": {
      "text/plain": [
       "[ [ 'a', 'b' ], [ 'c', 'd' ] ]"
      ]
     },
     "execution_count": 8,
     "metadata": {},
     "output_type": "execute_result"
    }
   ],
   "source": [
    "function slasher(arr, howMany) {\n",
    "  return arr.slice(howMany);\n",
    "}\n",
    "slasher([1, 2, 3], 2);"
   ]
  },
  {
   "cell_type": "code",
   "execution_count": 9,
   "metadata": {
    "collapsed": false,
    "scrolled": true
   },
   "outputs": [
    {
     "data": {
      "text/plain": [
       "true"
      ]
     },
     "execution_count": 9,
     "metadata": {},
     "output_type": "execute_result"
    }
   ],
   "source": [
    "test(slasher);"
   ]
  },
  {
   "cell_type": "markdown",
   "metadata": {},
   "source": [
    "### Notes:\n",
    "* Calling `.slice` on `arr` with `howMany` as the argument returns the desired result."
   ]
  }
 ],
 "metadata": {
  "kernelspec": {
   "display_name": "Javascript (Node.js)",
   "language": "javascript",
   "name": "javascript"
  },
  "language_info": {
   "file_extension": "js",
   "mimetype": "application/javascript",
   "name": "javascript",
   "version": "0.12.1"
  }
 },
 "nbformat": 4,
 "nbformat_minor": 0
}
