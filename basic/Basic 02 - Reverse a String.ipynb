{
 "cells": [
  {
   "cell_type": "markdown",
   "metadata": {},
   "source": [
    "# [Bonfire: Reverse a String](http://www.freecodecamp.com/challenges/bonfire-reverse-a-string)\n",
    "\n",
    "Reverse the provided string.\n",
    "\n",
    "You may need to turn the string into an array before you can reverse it.\n",
    "\n",
    "Your result must be a string.\n",
    "\n",
    "Remember to use [Read-Search-Ask](http://github.com/FreeCodeCamp/freecodecamp/wiki/How-to-get-help-when-you-get-stuck) if you get stuck. Write your own code.\n",
    "\n",
    "Here are some helpful links:\n",
    "\n",
    "* [Global String Object](https://developer.mozilla.org/en-US/docs/Web/JavaScript/Reference/Global_Objects/String)\n",
    "* [String.split()](https://developer.mozilla.org/en-US/docs/Web/JavaScript/Reference/Global_Objects/String/split)\n",
    "* [Array.reverse()](https://developer.mozilla.org/en-US/docs/Web/JavaScript/Reference/Global_Objects/Array/reverse)\n",
    "* [Array.join()](https://developer.mozilla.org/en-US/docs/Web/JavaScript/Reference/Global_Objects/Array/join)"
   ]
  },
  {
   "cell_type": "markdown",
   "metadata": {},
   "source": [
    "## Starting Code:\n",
    "```javascript\n",
    "function reverseString(str) {\n",
    "  return str;\n",
    "}\n",
    "reverseString('hello');\n",
    "```"
   ]
  },
  {
   "cell_type": "markdown",
   "metadata": {},
   "source": [
    "## Tests"
   ]
  },
  {
   "cell_type": "code",
   "execution_count": 1,
   "metadata": {
    "collapsed": false
   },
   "outputs": [
    {
     "data": {
      "text/plain": [
       "undefined"
      ]
     },
     "execution_count": 1,
     "metadata": {},
     "output_type": "execute_result"
    }
   ],
   "source": [
    "var assert = require('chai').assert;\n",
    "function test(fn) {\n",
    "    assert.typeOf(fn('hello'), 'string');\n",
    "    assert.deepEqual(fn('hello'), 'olleh');\n",
    "    assert.deepEqual(fn('Howdy'), 'ydwoH');\n",
    "    assert.deepEqual(fn('Greetings from Earth'), 'htraE morf sgniteerG');\n",
    "    return true\n",
    "}"
   ]
  },
  {
   "cell_type": "markdown",
   "metadata": {},
   "source": [
    "## For loop:"
   ]
  },
  {
   "cell_type": "code",
   "execution_count": 2,
   "metadata": {
    "collapsed": false
   },
   "outputs": [
    {
     "data": {
      "text/plain": [
       "'olleh'"
      ]
     },
     "execution_count": 2,
     "metadata": {},
     "output_type": "execute_result"
    }
   ],
   "source": [
    "function reverseString(str) {\n",
    "    var result = '';\n",
    "    for (var i = str.length-1; i > -1; i--) {\n",
    "        result += str[i];\n",
    "    }\n",
    "    return result;\n",
    "}\n",
    "test(reverseString);\n",
    "reverseString('hello');"
   ]
  },
  {
   "cell_type": "markdown",
   "metadata": {},
   "source": [
    "[Step-By-Step](http://www.pythontutor.com/javascript.html#code=function+reverseString(str%29+%7B%0A++++var+result+%3D+''%3B%0A++++for+(var+i+%3D+str.length-1%3B+i+%3E+-1%3B+i--%29+%7B%0A++++++++result+%2B%3D+str%5Bi%5D%3B%0A++++%7D%0A++++return+result%3B%0A%7D%0AreverseString('hello'%29%3B&mode=display&origin=opt-frontend.js&cumulative=false&heapPrimitives=false&textReferences=false&py=js&rawInputLstJSON=%5B%5D&curInstr=0)"
   ]
  },
  {
   "cell_type": "markdown",
   "metadata": {},
   "source": [
    "### Notes:\n",
    "* Create variable to hold the `result`, assign empty string, `''`, as a starting value.\n",
    "* Use a for loop iterating `i` starting at at the last index to the first, `str.length - 1` to `0`.\n",
    "  * Strings, like arrays, are `0` indexed.\n",
    "  * To start at the end of the string, we can use the [`length`](https://developer.mozilla.org/en-US/docs/Web/JavaScript/Reference/Global_Objects/String/length) property.\n",
    "* In the for loop, append character `i` to the result.\n",
    "  * Use [bracket notation](https://developer.mozilla.org/en-US/docs/Web/JavaScript/Reference/Global_Objects/String#Character_access) to get character at `i`.\n",
    "  * Use [addition operator](https://developer.mozilla.org/en-US/docs/Web/JavaScript/Reference/Operators/Arithmetic_Operators#Addition) to append.\n",
    "* Return the result."
   ]
  },
  {
   "cell_type": "markdown",
   "metadata": {},
   "source": [
    "## While loop:"
   ]
  },
  {
   "cell_type": "code",
   "execution_count": 3,
   "metadata": {
    "collapsed": false
   },
   "outputs": [
    {
     "data": {
      "text/plain": [
       "'olleh'"
      ]
     },
     "execution_count": 3,
     "metadata": {},
     "output_type": "execute_result"
    }
   ],
   "source": [
    "function reverseString(str) {\n",
    "    var result = '';\n",
    "    var i = str.length;\n",
    "    while(i-- > 0) {\n",
    "        result += str[i];\n",
    "    }\n",
    "    return result;\n",
    "}\n",
    "test(reverseString);\n",
    "reverseString('hello');"
   ]
  },
  {
   "cell_type": "markdown",
   "metadata": {},
   "source": [
    "[Step-By-Step](http://www.pythontutor.com/javascript.html#code=function+reverseString(str%29+%7B%0A++++var+result+%3D+''%3B%0A++++var+i+%3D+str.length%3B%0A++++while(i--+%3E+0%29+%7B%0A++++++++result+%2B%3D+str%5Bi%5D%3B%0A++++%7D%0A++++return+result%3B%0A%7D%0AreverseString('hello'%29%3B&mode=display&origin=opt-frontend.js&cumulative=false&heapPrimitives=false&textReferences=false&py=js&rawInputLstJSON=%5B%5D&curInstr=0)"
   ]
  },
  {
   "cell_type": "markdown",
   "metadata": {},
   "source": [
    "### Notes:\n",
    "* Create variable to hold the `result`, assign empty string, `''`, as a starting value.\n",
    "* Create a loop variable `i`, assign `str.length` as the starting value.\n",
    "* Use a while loop that iterates while `i-- > 0`.\n",
    "  - We use post [decrement](https://developer.mozilla.org/en-US/docs/Web/JavaScript/Reference/Operators/Arithmetic_Operators#Decrement_(--&rpar;), this way the `i > 0` is evaluated for the while condition, and the value of `i` is decremented before the loop is entered.\n",
    "  - e.g.:\n",
    "    + if `str = 'hello';` then `str.length` is `5` and `i` starts at `5`.  \n",
    "    + The loop checks if `5 > 0` which is true.\n",
    "    + `i` is then decremented and becomes `4`.  \n",
    "    + Inside the loop, the value of `i` is `4` for the first iteration.\n",
    "* In the for loop, append character `i` to the result.\n",
    "  * Use [bracket notation](https://developer.mozilla.org/en-US/docs/Web/JavaScript/Reference/Global_Objects/String#Character_access) to get character at `i`.\n",
    "  * Use [addition operator](https://developer.mozilla.org/en-US/docs/Web/JavaScript/Reference/Operators/Arithmetic_Operators#Addition) to append.\n",
    "* Return the result."
   ]
  },
  {
   "cell_type": "markdown",
   "metadata": {},
   "source": [
    "## Split, reverse, join:"
   ]
  },
  {
   "cell_type": "code",
   "execution_count": 4,
   "metadata": {
    "collapsed": false
   },
   "outputs": [
    {
     "data": {
      "text/plain": [
       "'olleh'"
      ]
     },
     "execution_count": 4,
     "metadata": {},
     "output_type": "execute_result"
    }
   ],
   "source": [
    "function reverseString(str) {\n",
    "    var strArr = str.split('');\n",
    "    strArr.reverse();\n",
    "    var reversedStr = strArr.join('');\n",
    "    return reversedStr;\n",
    "}\n",
    "test(reverseString);\n",
    "reverseString('hello');"
   ]
  },
  {
   "cell_type": "markdown",
   "metadata": {},
   "source": [
    "[Step-By-Step](http://www.pythontutor.com/javascript.html#code=function+reverseString(str%29+%7B%0A++++var+strArr+%3D+str.split(''%29%3B%0A++++strArr.reverse(%29%3B%0A++++var+reversedStr+%3D+strArr.join(''%29%3B%0A++++return+reversedStr%3B%0A%7D%0AreverseString('hello'%29%3B&mode=display&origin=opt-frontend.js&cumulative=false&heapPrimitives=false&textReferences=false&py=js&rawInputLstJSON=%5B%5D&curInstr=0)"
   ]
  },
  {
   "cell_type": "code",
   "execution_count": 5,
   "metadata": {
    "collapsed": false
   },
   "outputs": [
    {
     "data": {
      "text/plain": [
       "'olleh'"
      ]
     },
     "execution_count": 5,
     "metadata": {},
     "output_type": "execute_result"
    }
   ],
   "source": [
    "function reverseString(str) {\n",
    "    return str.split('').reverse().join('');\n",
    "}\n",
    "test(reverseString);\n",
    "reverseString('hello');"
   ]
  },
  {
   "cell_type": "markdown",
   "metadata": {},
   "source": [
    "### Notes:\n",
    "* Strings are [immutable](https://developer.mozilla.org/en-US/docs/Glossary/Immutable)\n",
    "* Call [`String.split`](https://developer.mozilla.org/en-US/docs/Web/JavaScript/Reference/Global_Objects/String/split) on `str` with with an empty string separator `''`.\n",
    "  - This returns an array with each character of the string as an element.\n",
    "  - This does not change the `str` itself.\n",
    "* Instead of creating a variable and assigning the returned array from the `str.split('')` call, we are going to call a function on the result, (**chaining** function calls).\n",
    "* Call [`.reverse()`](https://developer.mozilla.org/en-US/docs/Web/JavaScript/Reference/Global_Objects/Array/reverse) on the return value of `.split('')`.\n",
    "  - Arrays are not immutable. \"The reverse method transposes the elements of the calling array object in place, mutating the array.\"\n",
    "  - We are able to continue chaining function calls to finish our function because in addition to mutating the array, `.reverse()` also returns \"a reference to the array.\"\n",
    "* Call [`.join`](https://developer.mozilla.org/en-US/docs/Web/JavaScript/Reference/Global_Objects/Array/join) with an empty string separator, `''` on the return value of `str.split('').reverse()`. This returns a string with all the elements of the reversed array separated by the separator.\n",
    "* Return the result."
   ]
  },
  {
   "cell_type": "markdown",
   "metadata": {},
   "source": [
    "## Recursive (Silly):"
   ]
  },
  {
   "cell_type": "code",
   "execution_count": 6,
   "metadata": {
    "collapsed": false
   },
   "outputs": [
    {
     "data": {
      "text/plain": [
       "'olleh'"
      ]
     },
     "execution_count": 6,
     "metadata": {},
     "output_type": "execute_result"
    }
   ],
   "source": [
    "function reverseString(str) {\n",
    "    if (!str) return '';\n",
    "    return reverseString(str.slice(1)) + str[0];\n",
    "}\n",
    "test(reverseString);\n",
    "reverseString('hello');"
   ]
  },
  {
   "cell_type": "code",
   "execution_count": 7,
   "metadata": {
    "collapsed": false
   },
   "outputs": [
    {
     "data": {
      "text/plain": [
       "'olleh'"
      ]
     },
     "execution_count": 7,
     "metadata": {},
     "output_type": "execute_result"
    }
   ],
   "source": [
    "function reverseString(str) {\n",
    "    return str ? reverseString(str.slice(1)) + str[0] : '';\n",
    "}\n",
    "test(reverseString);\n",
    "reverseString('hello');"
   ]
  },
  {
   "cell_type": "markdown",
   "metadata": {},
   "source": [
    "[Step-By-Step](http://www.pythontutor.com/javascript.html#code=function+reverseString(str%29+%7B%0A++++return+str+%3F+reverseString(str.slice(1%29%29+%2B+str%5B0%5D+%3A+''%3B%0A%7D%0AreverseString('hello'%29%3B&mode=display&origin=opt-frontend.js&cumulative=false&heapPrimitives=false&textReferences=false&py=js&rawInputLstJSON=%5B%5D&curInstr=0)"
   ]
  },
  {
   "cell_type": "markdown",
   "metadata": {},
   "source": [
    "### Notes:\n",
    "* This solution uses [recursion](https://developer.mozilla.org/en-US/docs/Glossary/Recursion) and while interesting food for thought, is less desirable than the others.\n",
    "  - Possible stackoverflow for long strings.\n",
    "  - Calls [`str.slice`](https://developer.mozilla.org/en-US/docs/Web/JavaScript/Reference/Global_Objects/String/slice) for each stack frame.\n",
    "* The `?` is a [conditional or ternary](https://developer.mozilla.org/en-US/docs/Web/JavaScript/Reference/Operators/Conditional_Operator) operator.\n",
    "* The base case used for this recursive function is that `str` is [falsy](https://developer.mozilla.org/en-US/docs/Glossary/Falsy). Strings are falsy when they are an empty string, `''`. For the base case we return an empty string.\n",
    "* For the non-base case, we return the result of calling the function on `str.slice(1)` concatenated with `str[0]`."
   ]
  }
 ],
 "metadata": {
  "kernelspec": {
   "display_name": "Javascript (Node.js)",
   "language": "javascript",
   "name": "javascript"
  },
  "language_info": {
   "file_extension": "js",
   "mimetype": "application/javascript",
   "name": "javascript",
   "version": "0.12.1"
  }
 },
 "nbformat": 4,
 "nbformat_minor": 0
}
