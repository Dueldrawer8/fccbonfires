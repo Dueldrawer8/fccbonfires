{
 "cells": [
  {
   "cell_type": "markdown",
   "metadata": {},
   "source": [
    "# [Bonfire: Repeat a string repeat a string](http://freecodecamp.com/challenges/bonfire-repeat-a-string-repeat-a-string)\n",
    "\n",
    "Repeat a given string (first argument) n times (second argument). Return an empty string if n is a negative number.\n",
    "\n",
    "Remember to use Read-Search-Ask if you get stuck. Write your own code.\n",
    "\n",
    "Here are some helpful links:\n",
    "\n",
    "* [Global String Object](https://developer.mozilla.org/en-US/docs/Web/JavaScript/Reference/Global_Objects/String)"
   ]
  },
  {
   "cell_type": "markdown",
   "metadata": {},
   "source": [
    "## Starting Code:\n",
    "```javascript\n",
    "function repeat(str, num) {\n",
    "  // repeat after me\n",
    "  return str;\n",
    "}\n",
    "repeat('abc', 3);\n",
    "\n",
    "```"
   ]
  },
  {
   "cell_type": "markdown",
   "metadata": {},
   "source": [
    "## Tests"
   ]
  },
  {
   "cell_type": "code",
   "execution_count": 1,
   "metadata": {
    "collapsed": false
   },
   "outputs": [
    {
     "data": {
      "text/plain": [
       "undefined"
      ]
     },
     "execution_count": 1,
     "metadata": {},
     "output_type": "execute_result"
    }
   ],
   "source": [
    "var assert = require('chai').assert;\n",
    "function test(fn) {\n",
    "    assert.strictEqual(fn('*', 3), '***', 'should repeat a string n times');\n",
    "    assert.strictEqual(fn('abc', 3), 'abcabcabc', 'should repeat a string n times');\n",
    "    assert.strictEqual(fn('abc', -2), '', 'should return an empty string for negative numbers');\n",
    "    return true\n",
    "}"
   ]
  },
  {
   "cell_type": "markdown",
   "metadata": {},
   "source": [
    "## For loop:"
   ]
  },
  {
   "cell_type": "code",
   "execution_count": 2,
   "metadata": {
    "collapsed": false,
    "scrolled": true
   },
   "outputs": [
    {
     "data": {
      "text/plain": [
       "'abcabcabc'"
      ]
     },
     "execution_count": 2,
     "metadata": {},
     "output_type": "execute_result"
    }
   ],
   "source": [
    "function repeat(str, num) {\n",
    "    var result = '';\n",
    "    for (var i = 0; i < num; i++) {\n",
    "        result += str;\n",
    "    }\n",
    "    return result;\n",
    "}\n",
    "repeat('abc', 3);"
   ]
  },
  {
   "cell_type": "code",
   "execution_count": 3,
   "metadata": {
    "collapsed": false
   },
   "outputs": [
    {
     "data": {
      "text/plain": [
       "true"
      ]
     },
     "execution_count": 3,
     "metadata": {},
     "output_type": "execute_result"
    }
   ],
   "source": [
    "test(repeat);"
   ]
  },
  {
   "cell_type": "markdown",
   "metadata": {},
   "source": [
    "[Step-By-Step](http://www.pythontutor.com/javascript.html#code=function+repeat(str,+num%29+%7B%0A++++var+result+%3D+''%3B%0A++++for+(var+i+%3D+0%3B+i+%3C+num%3B+i%2B%2B%29+%7B%0A++++++++result+%2B%3D+str%3B%0A++++%7D%0A++++return+result%3B%0A%7D%0A%0Arepeat('abc',+3%29%3B&mode=display&origin=opt-frontend.js&cumulative=false&heapPrimitives=false&textReferences=false&py=js&rawInputLstJSON=%5B%5D&curInstr=0)"
   ]
  },
  {
   "cell_type": "markdown",
   "metadata": {},
   "source": [
    "### Notes:\n",
    "* For loop that iterates `num` times and appends `str` to a variable, `result`, with starting value `''`.\n",
    "* Starting `result` with empty string means that an empty string will be returned if num is negative because the loop's variable `i` starts at `0`."
   ]
  },
  {
   "cell_type": "markdown",
   "metadata": {},
   "source": [
    "## While loop:"
   ]
  },
  {
   "cell_type": "code",
   "execution_count": 4,
   "metadata": {
    "collapsed": false
   },
   "outputs": [
    {
     "data": {
      "text/plain": [
       "'abcabcabc'"
      ]
     },
     "execution_count": 4,
     "metadata": {},
     "output_type": "execute_result"
    }
   ],
   "source": [
    "function repeat(str, num) {\n",
    "    var result = '';\n",
    "    while (num-- > 0) {\n",
    "        result += str;\n",
    "    }\n",
    "    return result;\n",
    "}\n",
    "test(repeat);\n",
    "repeat('abc', 3);"
   ]
  },
  {
   "cell_type": "code",
   "execution_count": 5,
   "metadata": {
    "collapsed": false
   },
   "outputs": [
    {
     "data": {
      "text/plain": [
       "true"
      ]
     },
     "execution_count": 5,
     "metadata": {},
     "output_type": "execute_result"
    }
   ],
   "source": [
    "test(repeat);"
   ]
  },
  {
   "cell_type": "markdown",
   "metadata": {},
   "source": [
    "[Step-By-Step](http://www.pythontutor.com/javascript.html#code=function+repeat(str,+num%29+%7B%0A++++var+result+%3D+''%3B%0A++++while+(num--+%3E+0%29+%7B%0A++++++++result+%2B%3D+str%3B%0A++++%7D%0A++++return+result%3B%0A%7D%0A%0Arepeat('abc',+3%29%3B&mode=display&origin=opt-frontend.js&cumulative=false&heapPrimitives=false&textReferences=false&py=js&rawInputLstJSON=%5B%5D&curInstr=0)"
   ]
  },
  {
   "cell_type": "markdown",
   "metadata": {},
   "source": [
    "## Functional:"
   ]
  },
  {
   "cell_type": "markdown",
   "metadata": {
    "collapsed": false
   },
   "source": [
    "### ECMAScript 2015 (ES6)\n",
    "```js\n",
    "function repeat(str, num) {\n",
    "    return num < 0 ? '' : str.repeat(num);\n",
    "}\n",
    "test(repeat);\n",
    "repeat('abc', 3);\n",
    "```\n",
    "\n",
    "or \n",
    "\n",
    "```js\n",
    "const repeat = (str, num) => num < 0 ? '' : str.repeat(num);\n",
    "```"
   ]
  },
  {
   "cell_type": "markdown",
   "metadata": {},
   "source": [
    "### Notes:\n",
    "* ES6 includes a [String.repeat](https://developer.mozilla.org/en-US/docs/Web/JavaScript/Reference/Global_Objects/String/repeat) function."
   ]
  }
 ],
 "metadata": {
  "kernelspec": {
   "display_name": "Javascript (Node.js)",
   "language": "javascript",
   "name": "javascript"
  },
  "language_info": {
   "file_extension": "js",
   "mimetype": "application/javascript",
   "name": "javascript",
   "version": "0.12.1"
  }
 },
 "nbformat": 4,
 "nbformat_minor": 0
}
