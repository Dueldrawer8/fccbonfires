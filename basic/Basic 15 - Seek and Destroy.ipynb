{
 "cells": [
  {
   "cell_type": "markdown",
   "metadata": {},
   "source": [
    "# [Bonfire: Seek and Destroy](http://freecodecamp.com/challenges/bonfire-seek-and-destroy)\n",
    "\n",
    "You will be provided with an initial array (the first argument in the destroyer function), followed by one or more arguments. Remove all elements from the initial array that are of the same value as these arguments.\n",
    "\n",
    "Remember to use Read-Search-Ask if you get stuck. Write your own code.\n",
    "\n",
    "Here are some helpful links:\n",
    "\n",
    "* [Arguments object](https://developer.mozilla.org/en-US/docs/Web/JavaScript/Reference/Functions/arguments)\n",
    "* [Array.filter()](https://developer.mozilla.org/en-US/docs/Web/JavaScript/Reference/Global_Objects/Array/filter)"
   ]
  },
  {
   "cell_type": "markdown",
   "metadata": {},
   "source": [
    "## Starting Code:\n",
    "```javascript\n",
    "function destroyer(arr) {\n",
    "  // Remove all the values\n",
    "  return arr;\n",
    "}\n",
    "destroyer([1, 2, 3, 1, 2, 3], 2, 3);\n",
    "\n",
    "```"
   ]
  },
  {
   "cell_type": "markdown",
   "metadata": {},
   "source": [
    "## Tests"
   ]
  },
  {
   "cell_type": "code",
   "execution_count": 3,
   "metadata": {
    "collapsed": false
   },
   "outputs": [
    {
     "data": {
      "text/plain": [
       "undefined"
      ]
     },
     "execution_count": 3,
     "metadata": {},
     "output_type": "execute_result"
    }
   ],
   "source": [
    "var assert = require('chai').assert;\n",
    "function test(fn) {\n",
    "    assert.deepEqual(fn([1, 2, 3, 1, 2, 3], 2, 3), [1, 1], 'should remove correct values from an array');\n",
    "    assert.deepEqual(fn([1, 2, 3, 5, 1, 2, 3], 2, 3), [1, 5, 1], 'should remove correct values from an array');\n",
    "    assert.deepEqual(fn([3, 5, 1, 2, 2], 2, 3, 5), [1], 'should accept more than two additional arguments');\n",
    "    assert.deepEqual(fn([2, 3, 2, 3], 2, 3), [], 'should remove correct values from an array');\n",
    "    assert.deepEqual(fn(['tree', 'hamburger', 53], 'tree', 53), ['hamburger'], 'should handle NaN-elements');\n",
    "    return true\n",
    "}"
   ]
  },
  {
   "cell_type": "markdown",
   "metadata": {},
   "source": [
    "## For loop:"
   ]
  },
  {
   "cell_type": "code",
   "execution_count": 1,
   "metadata": {
    "collapsed": false,
    "scrolled": true
   },
   "outputs": [
    {
     "data": {
      "text/plain": [
       "[ 1, 1 ]"
      ]
     },
     "execution_count": 1,
     "metadata": {},
     "output_type": "execute_result"
    }
   ],
   "source": [
    "function destroyer(arr) {\n",
    "    var result = [];\n",
    "    for (var i = 0; i < arr.length; i++) {\n",
    "        var current = arr[i];\n",
    "        var destroy = false;\n",
    "        for (var j = 1; !destroy && j < arguments.length; j++) {\n",
    "            if (current === arguments[j]) {\n",
    "                destroy = true;\n",
    "            }\n",
    "        }\n",
    "        if (!destroy) {\n",
    "            result.push(current);\n",
    "        }\n",
    "    }\n",
    "    return result;\n",
    "}\n",
    "destroyer([1, 2, 3, 1, 2, 3], 2, 3);"
   ]
  },
  {
   "cell_type": "code",
   "execution_count": 4,
   "metadata": {
    "collapsed": false
   },
   "outputs": [
    {
     "data": {
      "text/plain": [
       "true"
      ]
     },
     "execution_count": 4,
     "metadata": {},
     "output_type": "execute_result"
    }
   ],
   "source": [
    "test(destroyer);"
   ]
  },
  {
   "cell_type": "markdown",
   "metadata": {},
   "source": [
    "[Step-By-Step](http://www.pythontutor.com/javascript.html#code=function+destroyer(arr%29+%7B%0A++++var+result+%3D+%5B%5D%3B%0A++++for+(var+i+%3D+0%3B+i+%3C+arr.length%3B+i%2B%2B%29+%7B%0A++++++++var+current+%3D+arr%5Bi%5D%3B%0A++++++++var+destroy+%3D+false%3B%0A++++++++for+(var+j+%3D+1%3B+!destroy+%26%26+j+%3C+arguments.length%3B+j%2B%2B%29+%7B%0A++++++++++++if+(current+%3D%3D%3D+arguments%5Bj%5D%29+%7B%0A++++++++++++++++destroy+%3D+true%3B%0A++++++++++++%7D%0A++++++++%7D%0A++++++++if+(!destroy%29+%7B%0A++++++++++++result.push(current%29%3B%0A++++++++%7D%0A++++%7D%0A++++return+result%3B%0A%7D%0A%0Adestroyer(%5B1,+2,+3,+1,+2,+3%5D,+2,+3%29%3B&mode=display&origin=opt-frontend.js&cumulative=false&heapPrimitives=false&textReferences=false&py=js&rawInputLstJSON=%5B%5D&curInstr=0)"
   ]
  },
  {
   "cell_type": "markdown",
   "metadata": {},
   "source": [
    "### Notes:\n",
    "* Declare and assign a variable, `result`, with an empty array, `[]`.\n",
    "* The outer for loop iterates over the elements of `arr`.\n",
    "  - Declare a variable, `destroy`, with initial value of `false`.\n",
    "* The inner for loop iterates over the elements of the [`arguments object`](https://developer.mozilla.org/en-US/docs/Web/JavaScript/Reference/Functions/arguments) starting at index `1`.\n",
    "  - If the `current` element of the outer loop equals the current element of the `arguments`, set `destroy` to `true`.\n",
    "  - When the inner for loop completes, if `destroy` is not `true`, push the `current` element to `result`.\n",
    "* When the outer for loop completes, `return result`."
   ]
  },
  {
   "cell_type": "markdown",
   "metadata": {},
   "source": [
    "## Functional:"
   ]
  },
  {
   "cell_type": "code",
   "execution_count": 5,
   "metadata": {
    "collapsed": false
   },
   "outputs": [
    {
     "data": {
      "text/plain": [
       "[ 1, 1 ]"
      ]
     },
     "execution_count": 5,
     "metadata": {},
     "output_type": "execute_result"
    }
   ],
   "source": [
    "function destroyer(arr) {\n",
    "  var args = [].slice.call(arguments, 1);\n",
    "  return arr.filter(function(el) {\n",
    "    return args.indexOf(el) === -1;\n",
    "  });\n",
    "}\n",
    "destroyer([1, 2, 3, 1, 2, 3], 2, 3);"
   ]
  },
  {
   "cell_type": "code",
   "execution_count": 6,
   "metadata": {
    "collapsed": false,
    "scrolled": true
   },
   "outputs": [
    {
     "data": {
      "text/plain": [
       "true"
      ]
     },
     "execution_count": 6,
     "metadata": {},
     "output_type": "execute_result"
    }
   ],
   "source": [
    "test(destroyer);"
   ]
  },
  {
   "cell_type": "markdown",
   "metadata": {},
   "source": [
    "[Step-By-Step](http://www.pythontutor.com/javascript.html#code=function+destroyer(arr%29+%7B%0A++var+args+%3D+%5B%5D.slice.call(arguments,+1%29%3B%0A++return+arr.filter(function(el%29+%7B%0A++++return+args.indexOf(el%29+%3D%3D%3D+-1%3B%0A++%7D%29%3B%0A%7D%0A%0Adestroyer(%5B1,+2,+3,+1,+2,+3%5D,+2,+3%29%3B&mode=display&origin=opt-frontend.js&cumulative=false&heapPrimitives=false&textReferences=false&py=js&rawInputLstJSON=%5B%5D&curInstr=0)"
   ]
  },
  {
   "cell_type": "markdown",
   "metadata": {},
   "source": [
    "### Notes:\n",
    "* There are two reasons why the `args` variable is declared.\n",
    "  1. The callback function for the `.filter` call has its own `arguments` object.\n",
    "  2. The `arguments` object isn't an array. By converting it to an array, using `[].slice.call(arguments, 1)` we can use array's `.indexOf` function.\n",
    "* Return the result of filtering `arr` using a callback that returns if the element is in the `args` array using `.indexOf`."
   ]
  }
 ],
 "metadata": {
  "kernelspec": {
   "display_name": "Javascript (Node.js)",
   "language": "javascript",
   "name": "javascript"
  },
  "language_info": {
   "file_extension": "js",
   "mimetype": "application/javascript",
   "name": "javascript",
   "version": "0.12.1"
  }
 },
 "nbformat": 4,
 "nbformat_minor": 0
}
