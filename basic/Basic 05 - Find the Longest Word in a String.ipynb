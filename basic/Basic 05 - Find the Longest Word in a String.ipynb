{
 "cells": [
  {
   "cell_type": "markdown",
   "metadata": {},
   "source": [
    "# [Bonfire: Find the Longest Word in a String](http://freecodecamp.com/challenges/bonfire-find-the-longest-word-in-a-string)\n",
    "\n",
    "Return the length of the longest word in the provided sentence.\n",
    "\n",
    "Your response should be a number.\n",
    "\n",
    "Remember to use Read-Search-Ask if you get stuck. Write your own code.\n",
    "\n",
    "Here are some helpful links:\n",
    "\n",
    "* [String.split()](https://developer.mozilla.org/en-US/docs/Web/JavaScript/Reference/Global_Objects/String/split)\n",
    "* [String.length](https://developer.mozilla.org/en-US/docs/Web/JavaScript/Reference/Global_Objects/String/length)"
   ]
  },
  {
   "cell_type": "markdown",
   "metadata": {},
   "source": [
    "## Starting Code:\n",
    "```javascript\n",
    "function findLongestWord(str) {\n",
    "  return str.length;\n",
    "}\n",
    "findLongestWord('The quick brown fox jumped over the lazy dog');\n",
    "\n",
    "```"
   ]
  },
  {
   "cell_type": "markdown",
   "metadata": {},
   "source": [
    "## Tests"
   ]
  },
  {
   "cell_type": "code",
   "execution_count": 1,
   "metadata": {
    "collapsed": false
   },
   "outputs": [
    {
     "data": {
      "text/plain": [
       "undefined"
      ]
     },
     "execution_count": 1,
     "metadata": {},
     "output_type": "execute_result"
    }
   ],
   "source": [
    "var assert = require('chai').assert;\n",
    "function test(fn) {\n",
    "    assert.typeOf(fn('The quick brown fox jumped over the lazy dog'), 'number');\n",
    "    assert.deepEqual(fn('The quick brown fox jumped over the lazy dog'), 6);\n",
    "    assert.deepEqual(fn('May the force be with you'), 5);\n",
    "    assert.deepEqual(fn('Google do a barrel roll'), 6);\n",
    "    assert.deepEqual(fn('What is the average airspeed velocity of an unladen swallow'), 8);\n",
    "    assert.deepEqual(fn('What if we try a super-long word such as otorhinolaryngology'), 19);\n",
    "    return true\n",
    "}"
   ]
  },
  {
   "cell_type": "markdown",
   "metadata": {},
   "source": [
    "## For loop:"
   ]
  },
  {
   "cell_type": "code",
   "execution_count": 2,
   "metadata": {
    "collapsed": false
   },
   "outputs": [
    {
     "data": {
      "text/plain": [
       "6"
      ]
     },
     "execution_count": 2,
     "metadata": {},
     "output_type": "execute_result"
    }
   ],
   "source": [
    "function findLongestWord(str) {\n",
    "    var strArray = str.split(' ');\n",
    "    var longestLength = 0;\n",
    "    for (var i = 0; i < strArray.length; i++) {\n",
    "        var currentStrLength = strArray[i].length;\n",
    "        if (longestLength < currentStrLength) {\n",
    "            longestLength = currentStrLength;\n",
    "        }\n",
    "    }\n",
    "    return longestLength;\n",
    "}\n",
    "test(findLongestWord);\n",
    "findLongestWord('The quick brown fox jumped over the lazy dog');"
   ]
  },
  {
   "cell_type": "markdown",
   "metadata": {},
   "source": [
    "[Step-By-Step](http://www.pythontutor.com/javascript.html#code=function+findLongestWord(str%29+%7B%0A++++var+strArray+%3D+str.split('+'%29%3B%0A++++var+longestLength+%3D+0%3B%0A++++for+(var+i+%3D+0%3B+i+%3C+strArray.length%3B+i%2B%2B%29+%7B%0A++++++++var+currentStrLength+%3D+strArray%5Bi%5D.length%3B%0A++++++++if+(longestLength+%3C+currentStrLength%29+%7B%0A++++++++++++longestLength+%3D+currentStrLength%3B%0A++++++++%7D%0A++++%7D%0A++++return+longestLength%3B%0A%7D%0A%0AfindLongestWord('The+quick+brown+fox+jumped+over+the+lazy+dog'%29%3B&mode=display&origin=opt-frontend.js&cumulative=false&heapPrimitives=false&textReferences=false&py=js&rawInputLstJSON=%5B%5D&curInstr=0)"
   ]
  },
  {
   "cell_type": "markdown",
   "metadata": {},
   "source": [
    "### Notes:\n",
    "* Declare and assign variable, `strArray`, to the result of `.split` using a space, `' '`, as the separator.\n",
    "* Declare and assign variable, `longestLength`, with initial value of 0.\n",
    "* Iterate over the the elements in the `strArray` array and compare the lengths of the strings to the longestLength vale.\n",
    "  - If the `currentStrLength` is larger than the `longestLength`, assign `longestLength = currentStrLength`.\n",
    "* After the for loop finishes `return longestLength`."
   ]
  },
  {
   "cell_type": "markdown",
   "metadata": {},
   "source": [
    "## While loop:"
   ]
  },
  {
   "cell_type": "code",
   "execution_count": 3,
   "metadata": {
    "collapsed": false
   },
   "outputs": [
    {
     "data": {
      "text/plain": [
       "6"
      ]
     },
     "execution_count": 3,
     "metadata": {},
     "output_type": "execute_result"
    }
   ],
   "source": [
    "function findLongestWord(str) {\n",
    "    var strArray = str.split(' ');\n",
    "    var longestLength = 0;\n",
    "    var i = strArray.length;\n",
    "    while (i--) {\n",
    "        var currentStrLength = strArray[i].length;\n",
    "        if (longestLength < currentStrLength) {\n",
    "            longestLength = currentStrLength;\n",
    "        }\n",
    "    }\n",
    "    return longestLength;\n",
    "}\n",
    "test(findLongestWord);\n",
    "findLongestWord('The quick brown fox jumped over the lazy dog');"
   ]
  },
  {
   "cell_type": "markdown",
   "metadata": {},
   "source": [
    "[Step-By-Step](http://www.pythontutor.com/javascript.html#code=function+findLongestWord(str%29+%7B%0A++++var+strArray+%3D+str.split('+'%29%3B%0A++++var+longestLength+%3D+0%3B%0A++++var+i+%3D+strArray.length%3B%0A++++while+(i--%29+%7B%0A++++++++var+currentStrLength+%3D+strArray%5Bi%5D.length%3B%0A++++++++if+(longestLength+%3C+currentStrLength%29+%7B%0A++++++++++++longestLength+%3D+currentStrLength%3B%0A++++++++%7D%0A++++%7D%0A++++return+longestLength%3B%0A%7D%0A%0AfindLongestWord('The+quick+brown+fox+jumped+over+the+lazy+dog'%29%3B&mode=display&origin=opt-frontend.js&cumulative=false&heapPrimitives=false&textReferences=false&py=js&rawInputLstJSON=%5B%5D&curInstr=0)"
   ]
  },
  {
   "cell_type": "markdown",
   "metadata": {},
   "source": [
    "### Notes:\n",
    "* Iteration order when finding the longest word doesn't matter so we choose to start at the end and use the post decrement."
   ]
  },
  {
   "cell_type": "markdown",
   "metadata": {},
   "source": [
    "## Functional:"
   ]
  },
  {
   "cell_type": "code",
   "execution_count": 4,
   "metadata": {
    "collapsed": false
   },
   "outputs": [
    {
     "data": {
      "text/plain": [
       "6"
      ]
     },
     "execution_count": 4,
     "metadata": {},
     "output_type": "execute_result"
    }
   ],
   "source": [
    "function findLongestWord(str) {\n",
    "    var wordArray = str.split(' ');\n",
    "    var wordLengths = wordArray.map(function(word) {\n",
    "       return word.length; \n",
    "    });\n",
    "    return Math.max.apply(null, wordLengths);\n",
    "}\n",
    "test(findLongestWord);\n",
    "findLongestWord('The quick brown fox jumped over the lazy dog');"
   ]
  },
  {
   "cell_type": "markdown",
   "metadata": {},
   "source": [
    "[Step-By-Step](http://www.pythontutor.com/javascript.html#code=function+findLongestWord(str%29+%7B%0A++++var+wordArray+%3D+str.split('+'%29%3B%0A++++var+wordLengths+%3D+wordArray.map(function(word%29+%7B%0A+++++++return+word.length%3B+%0A++++%7D%29%3B%0A++++return+Math.max.apply(null,+wordLengths%29%3B%0A%7D%0A%0AfindLongestWord('The+quick+brown+fox+jumped+over+the+lazy+dog'%29%3B&mode=display&origin=opt-frontend.js&cumulative=false&heapPrimitives=false&textReferences=false&py=js&rawInputLstJSON=%5B%5D&curInstr=0)"
   ]
  },
  {
   "cell_type": "code",
   "execution_count": 5,
   "metadata": {
    "collapsed": false,
    "scrolled": true
   },
   "outputs": [
    {
     "data": {
      "text/plain": [
       "6"
      ]
     },
     "execution_count": 5,
     "metadata": {},
     "output_type": "execute_result"
    }
   ],
   "source": [
    "function findLongestWord(str) {\n",
    "  return Math.max.apply(null, str.split(' ').map(function(w) {return w.length;}));\n",
    "}\n",
    "test(findLongestWord);\n",
    "findLongestWord('The quick brown fox jumped over the lazy dog');"
   ]
  },
  {
   "cell_type": "markdown",
   "metadata": {},
   "source": [
    "### Notes:\n",
    "* Split the string into an array of words using `.split(' ')`.\n",
    "* Use [`Array.map`](https://developer.mozilla.org/en-US/docs/Web/JavaScript/Reference/Global_Objects/Array/map) with a callback function that returns the length of each element.\n",
    "* [Apply](https://developer.mozilla.org/en-US/docs/Web/JavaScript/Reference/Global_Objects/Function/apply) the [`Math.max`](https://developer.mozilla.org/en-US/docs/Web/JavaScript/Reference/Global_Objects/Math/max) function to the array of lengths and return the result."
   ]
  },
  {
   "cell_type": "markdown",
   "metadata": {},
   "source": [
    "## Recursive: (Silly)"
   ]
  },
  {
   "cell_type": "code",
   "execution_count": 6,
   "metadata": {
    "collapsed": false
   },
   "outputs": [
    {
     "data": {
      "text/plain": [
       "6"
      ]
     },
     "execution_count": 6,
     "metadata": {},
     "output_type": "execute_result"
    }
   ],
   "source": [
    "function longestWordRecur(arr) {\n",
    "    if (!arr.length) return 0;\n",
    "    var word = arr[0];\n",
    "    var rest = arr.slice(1);\n",
    "    var longest = Math.max(word.length, longestWordRecur(rest));\n",
    "    return longest;\n",
    "}\n",
    "\n",
    "function findLongestWord(str) {\n",
    "    var wordArray = str.split(' ');\n",
    "    return longestWordRecur(wordArray);\n",
    "}\n",
    "test(findLongestWord);\n",
    "findLongestWord('The quick brown fox jumped over the lazy dog');"
   ]
  },
  {
   "cell_type": "markdown",
   "metadata": {},
   "source": [
    "[Step-By-Step](http://www.pythontutor.com/javascript.html#code=function+longestWordRecur(arr%29+%7B%0A++++if+(!arr.length%29+return+0%3B%0A++++var+word+%3D+arr%5B0%5D%3B%0A++++var+rest+%3D+arr.slice(1%29%3B%0A++++var+longest+%3D+Math.max(word.length,+longestWordRecur(rest%29%29%3B%0A++++return+longest%3B%0A%7D%0A%0Afunction+findLongestWord(str%29+%7B%0A++++var+wordArray+%3D+str.split('+'%29%3B%0A++++return+longestWordRecur(wordArray%29%3B%0A%7D%0A%0AfindLongestWord('The+quick+brown+fox+jumped+over+the+lazy+dog'%29%3B&mode=display&origin=opt-frontend.js&cumulative=false&heapPrimitives=false&textReferences=false&py=js&rawInputLstJSON=%5B%5D&curInstr=0)"
   ]
  },
  {
   "cell_type": "code",
   "execution_count": 7,
   "metadata": {
    "collapsed": false
   },
   "outputs": [
    {
     "data": {
      "text/plain": [
       "6"
      ]
     },
     "execution_count": 7,
     "metadata": {},
     "output_type": "execute_result"
    }
   ],
   "source": [
    "function longestWordRecur(arr) {\n",
    "    return arr.length ? Math.max(arr[0].length, longestWordRecur(arr.slice(1))) : 0;\n",
    "}\n",
    "\n",
    "function findLongestWord(str) {\n",
    "    var wordArray = str.split(' ');\n",
    "    return longestWordRecur(wordArray);\n",
    "}\n",
    "test(findLongestWord);\n",
    "findLongestWord('The quick brown fox jumped over the lazy dog');"
   ]
  },
  {
   "cell_type": "markdown",
   "metadata": {},
   "source": [
    "### Notes:\n",
    "* Instead of calling `.split` for every recursive call, we declare the recursive function as `longestWordRecur` and call it with the word array.\n",
    "* The base case used for this recursive function is when the array is empty, `!arr.length`. When the base case is reached, `return 0` to use as the starting value to use in the comparision.\n",
    "* For the non-base case, we return if the larger of the first word's length and the result of calling `longestWordRecur` on the rest of the array."
   ]
  },
  {
   "cell_type": "markdown",
   "metadata": {},
   "source": [
    "### Recursive (using tail call):"
   ]
  },
  {
   "cell_type": "code",
   "execution_count": 8,
   "metadata": {
    "collapsed": false
   },
   "outputs": [
    {
     "data": {
      "text/plain": [
       "6"
      ]
     },
     "execution_count": 8,
     "metadata": {},
     "output_type": "execute_result"
    }
   ],
   "source": [
    "function longestWordRecur(arr, longest) {\n",
    "    if (!arr.length) return longest;\n",
    "    var word = arr[0];\n",
    "    var rest = arr.slice(1);\n",
    "    longest = longest || 0;\n",
    "    longest = Math.max(longest, word.length);\n",
    "    return longestWordRecur(rest, longest);\n",
    "}\n",
    "\n",
    "function findLongestWord(str) {\n",
    "    var wordArray = str.split(' ');\n",
    "    return longestWordRecur(wordArray);\n",
    "}\n",
    "test(findLongestWord);\n",
    "findLongestWord('The quick brown fox jumped over the lazy dog');"
   ]
  },
  {
   "cell_type": "markdown",
   "metadata": {},
   "source": [
    "[Step-By-Step](http://www.pythontutor.com/javascript.html#code=function+longestWordRecur(arr,+longest%29+%7B%0A++++if+(!arr.length%29+return+longest%3B%0A++++var+word+%3D+arr%5B0%5D%3B%0A++++var+rest+%3D+arr.slice(1%29%3B%0A++++longest+%3D+longest+%7C%7C+0%3B%0A++++longest+%3D+Math.max(longest,+word.length%29%3B%0A++++return+longestWordRecur(rest,+longest%29%3B%0A%7D%0A%0Afunction+findLongestWord(str%29+%7B%0A++++var+wordArray+%3D+str.split('+'%29%3B%0A++++return+longestWordRecur(wordArray%29%3B%0A%7D%0A%0AfindLongestWord('The+quick+brown+fox+jumped+over+the+lazy+dog'%29%3B&mode=display&origin=opt-frontend.js&cumulative=false&heapPrimitives=false&textReferences=false&py=js&rawInputLstJSON=%5B%5D&curInstr=0)"
   ]
  },
  {
   "cell_type": "code",
   "execution_count": 9,
   "metadata": {
    "collapsed": false
   },
   "outputs": [
    {
     "data": {
      "text/plain": [
       "6"
      ]
     },
     "execution_count": 9,
     "metadata": {},
     "output_type": "execute_result"
    }
   ],
   "source": [
    "function longestWordRecur(arr, longest) {\n",
    "    if (!arr.length) return longest || 0;\n",
    "    return longestWordRecur(arr.slice(1), Math.max(longest||0, arr[0].length));\n",
    "}\n",
    "\n",
    "function findLongestWord(str) {\n",
    "    var wordArray = str.split(' ');\n",
    "    return longestWordRecur(wordArray);\n",
    "}\n",
    "test(findLongestWord);\n",
    "findLongestWord('The quick brown fox jumped over the lazy dog');"
   ]
  },
  {
   "cell_type": "markdown",
   "metadata": {},
   "source": [
    "### Notes:\n",
    "* See [this](http://www.2ality.com/2015/06/tail-call-optimization.html) for more information about tail call optimization (TCO)."
   ]
  }
 ],
 "metadata": {
  "kernelspec": {
   "display_name": "Javascript (Node.js)",
   "language": "javascript",
   "name": "javascript"
  },
  "language_info": {
   "file_extension": "js",
   "mimetype": "application/javascript",
   "name": "javascript",
   "version": "0.12.1"
  }
 },
 "nbformat": 4,
 "nbformat_minor": 0
}
