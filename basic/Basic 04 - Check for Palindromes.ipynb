{
 "cells": [
  {
   "cell_type": "markdown",
   "metadata": {},
   "source": [
    "# [Bonfire: Check for Palindromes](http://freecodecamp.com/challenges/bonfire-check-for-palindromes)\n",
    "\n",
    "Return true if the given string is a palindrome. Otherwise, return false.\n",
    "\n",
    "A palindrome is a word or sentence that's spelled the same way both forward and backward, ignoring punctuation, case, and spacing.\n",
    "\n",
    "You'll need to remove punctuation and turn everything lower case in order to check for palindromes.\n",
    "\n",
    "We'll pass strings with varying formats, such as \"racecar\", \"RaceCar\", and \"race CAR\" among others.\n",
    "\n",
    "Remember to use Read-Search-Ask if you get stuck. Write your own code.\n",
    "\n",
    "Here are some helpful links:\n",
    "\n",
    "* [String.replace()](https://developer.mozilla.org/en-US/docs/Web/JavaScript/Reference/Global_Objects/String/replace)\n",
    "* [String.toLowerCase()](https://developer.mozilla.org/en-US/docs/Web/JavaScript/Reference/Global_Objects/String/toLowerCase)"
   ]
  },
  {
   "cell_type": "markdown",
   "metadata": {},
   "source": [
    "## Starting Code:\n",
    "```javascript\n",
    "function palindrome(str) {\n",
    "  // Good luck!\n",
    "  return true;\n",
    "}\n",
    "palindrome(\"eye\");\n",
    "```"
   ]
  },
  {
   "cell_type": "markdown",
   "metadata": {},
   "source": [
    "## Tests"
   ]
  },
  {
   "cell_type": "code",
   "execution_count": 1,
   "metadata": {
    "collapsed": false
   },
   "outputs": [
    {
     "data": {
      "text/plain": [
       "undefined"
      ]
     },
     "execution_count": 1,
     "metadata": {},
     "output_type": "execute_result"
    }
   ],
   "source": [
    "var assert = require('chai').assert;\n",
    "function test(fn) {\n",
    "    assert.typeOf(fn(\"eye\"), \"boolean\");\n",
    "    assert.deepEqual(fn(\"eye\"), true);\n",
    "    assert.deepEqual(fn(\"race car\"), true);\n",
    "    assert.deepEqual(fn(\"not a palindrome\"), false);\n",
    "    assert.deepEqual(fn(\"A man, a plan, a canal. Panama\"), true);\n",
    "    assert.deepEqual(fn(\"never odd or even\"), true);\n",
    "    assert.deepEqual(fn(\"nope\"), false);\n",
    "    assert.deepEqual(fn(\"almostomla\"), false);\n",
    "    assert.deepEqual(fn(\"My age is 0, 0 si ega ym.\"), true);\n",
    "    assert.deepEqual(fn(\"I'm 23 non 32 m'I?\"), true);\n",
    "    assert.deepEqual(fn(\"1 eye for of 1 eye.\"), false);\n",
    "    return true\n",
    "}"
   ]
  },
  {
   "cell_type": "markdown",
   "metadata": {},
   "source": [
    "## Common function:"
   ]
  },
  {
   "cell_type": "code",
   "execution_count": 2,
   "metadata": {
    "collapsed": false
   },
   "outputs": [
    {
     "data": {
      "text/plain": [
       "undefined"
      ]
     },
     "execution_count": 2,
     "metadata": {},
     "output_type": "execute_result"
    }
   ],
   "source": [
    "/**\n",
    " * Returns the lowercased string with the spaces and \n",
    " * punctuations stripped for a provided string.\n",
    " */\n",
    "function cleanString(str) {\n",
    "    return str.toLowerCase().replace(/\\W|_/g, '');\n",
    "}"
   ]
  },
  {
   "cell_type": "markdown",
   "metadata": {},
   "source": [
    "### Notes:\n",
    "* This uses the [`.toLowerCase`](https://developer.mozilla.org/en-US/docs/Web/JavaScript/Reference/Global_Objects/String/toLowerCase) and the [`.replace`](https://developer.mozilla.org/en-US/docs/Web/JavaScript/Reference/Global_Objects/String/replace) functions mentioned in the challenge text.\n",
    "* For the replace function we use a [regular expression](https://developer.mozilla.org/en-US/docs/Web/JavaScript/Guide/Regular_Expressions) to match characters we want to replace.\n",
    "  - The regex used is a [special character](https://developer.mozilla.org/en-US/docs/Web/JavaScript/Guide/Regular_Expressions#Using_special_characters), `/\\W/` to match [non-word characters](https://developer.mozilla.org/en-US/docs/Web/JavaScript/Guide/Regular_Expressions#special-non-word).\n",
    "  - The `\\W` is equivalent to `/[^A-Za-z0-9_]/`, so we use the `|`, [\"OR\"](https://developer.mozilla.org/en-US/docs/Web/JavaScript/Guide/Regular_Expressions#special-or), to also match `_`'s.\n",
    "  - The [global](https://developer.mozilla.org/en-US/docs/Web/JavaScript/Guide/Regular_Expressions#Advanced_searching_with_flags), `g`, flag is used so we match all occurances.\n",
    "  - The second argument of the function call, in this case empty string, `''`, replaces the matches with empty string effectively removing the matched characters from the returned string.\n",
    "* Alternative:\n",
    "  - `return str.toLowerCase().replace(/[^a-z0-9]/g, '');`\n",
    "* Note that instead of using this function, this code could also just be inlined within each function."
   ]
  },
  {
   "cell_type": "markdown",
   "metadata": {},
   "source": [
    "## For loop:"
   ]
  },
  {
   "cell_type": "code",
   "execution_count": 3,
   "metadata": {
    "collapsed": false
   },
   "outputs": [
    {
     "data": {
      "text/plain": [
       "[ true, false ]"
      ]
     },
     "execution_count": 3,
     "metadata": {},
     "output_type": "execute_result"
    }
   ],
   "source": [
    "function palindrome(str) {\n",
    "    var cleanedStr = cleanString(str);\n",
    "    var len = cleanedStr.length;\n",
    "    for (var i = 0; i < len; i++) {\n",
    "        if (cleanedStr[i] !== cleanedStr[len-i-1]) return false;\n",
    "    }\n",
    "    return true;\n",
    "}\n",
    "test(palindrome);\n",
    "[palindrome(\"Race cAr\"), palindrome(\"abcdba\")];"
   ]
  },
  {
   "cell_type": "markdown",
   "metadata": {},
   "source": [
    "### Notes:\n",
    "* Declare and assign `cleanedStr` to the lowercased stripped `str` using the `cleanString` function.\n",
    "* Use a for loop iterating over the length of the cleaned string, `len`.\n",
    "* If the character at `i` is not equal to the character at `len-i-1`, the string is not a palindrome.\n",
    "  - `return false` if the characters are not equal.\n",
    "* After the loop, if the function did not yet `return false`, the string is a palindrome, `return true`."
   ]
  },
  {
   "cell_type": "code",
   "execution_count": 4,
   "metadata": {
    "collapsed": false
   },
   "outputs": [
    {
     "data": {
      "text/plain": [
       "[ true, false ]"
      ]
     },
     "execution_count": 4,
     "metadata": {},
     "output_type": "execute_result"
    }
   ],
   "source": [
    "function palindrome(str) {\n",
    "    var cleanedStr = cleanString(str);\n",
    "    var len = cleanedStr.length;\n",
    "    for (var i = 0, j = len-1; i < len / 2; i++, j--) {\n",
    "        if (cleanedStr[i] !== cleanedStr[j]) return false;\n",
    "    }\n",
    "    return true;\n",
    "}\n",
    "test(palindrome);\n",
    "[palindrome(\"Race cAr\"), palindrome(\"abcdba\")];"
   ]
  },
  {
   "cell_type": "markdown",
   "metadata": {},
   "source": [
    "[Step-By-Step](http://www.pythontutor.com/javascript.html#code=function+cleanString(str%29+%7B%0A++++return+str.toLowerCase(%29.replace(/%5CW%7C_/g,+''%29%3B%0A%7D%0A%0Afunction+palindrome(str%29+%7B%0A++++var+cleanedStr+%3D+cleanString(str%29%3B%0A++++var+len+%3D+cleanedStr.length%3B%0A++++for+(var+i+%3D+0,+j+%3D+len-1%3B+i+%3C+len+/+2%3B+i%2B%2B,+j--%29+%7B%0A++++++++if+(cleanedStr%5Bi%5D+!%3D%3D+cleanedStr%5Bj%5D%29+return+false%3B%0A++++%7D%0A++++return+true%3B%0A%7D%0A%0A%5Bpalindrome(%22Race+cAr%22%29,+palindrome(%22abcdba%22%29%5D%3B&mode=display&origin=opt-frontend.js&cumulative=false&heapPrimitives=false&textReferences=false&py=js&rawInputLstJSON=%5B%5D&curInstr=0)"
   ]
  },
  {
   "cell_type": "markdown",
   "metadata": {},
   "source": [
    "### Notes:\n",
    "* Since we are comparing letters from the front and back, we only need to iterate over half the string before knowing that the string is/is not a palindrome.\n",
    "* The for loop condition can be changed to `i < len/2`."
   ]
  },
  {
   "cell_type": "markdown",
   "metadata": {},
   "source": [
    "## While loop:"
   ]
  },
  {
   "cell_type": "code",
   "execution_count": 5,
   "metadata": {
    "collapsed": false
   },
   "outputs": [
    {
     "data": {
      "text/plain": [
       "[ true, false ]"
      ]
     },
     "execution_count": 5,
     "metadata": {},
     "output_type": "execute_result"
    }
   ],
   "source": [
    "function palindrome(str) {\n",
    "    var cleanedStr = cleanString(str);\n",
    "    var len = cleanedStr.length;\n",
    "    var i = Math.floor(len / 2);\n",
    "    while (i--) {\n",
    "        if (cleanedStr[i] !== cleanedStr[len-i-1]) return false;\n",
    "    }\n",
    "    return true;\n",
    "}\n",
    "test(palindrome);\n",
    "[palindrome(\"Race cAr\"), palindrome(\"abcdba\")];"
   ]
  },
  {
   "cell_type": "markdown",
   "metadata": {},
   "source": [
    "[Step-By-Step](http://www.pythontutor.com/javascript.html#code=function+cleanString(str%29+%7B%0A++++return+str.toLowerCase(%29.replace(/%5CW%7C_/g,+''%29%3B%0A%7D%0A%0Afunction+palindrome(str%29+%7B%0A++++var+cleanedStr+%3D+cleanString(str%29%3B%0A++++var+len+%3D+cleanedStr.length%3B%0A++++var+i+%3D+Math.floor(len+/+2%29%3B%0A++++while+(i--%29+%7B%0A++++++++if+(cleanedStr%5Bi%5D+!%3D%3D+cleanedStr%5Blen-i-1%5D%29+return+false%3B%0A++++%7D%0A++++return+true%3B%0A%7D%0A%0A%5Bpalindrome(%22Race+cAr%22%29,+palindrome(%22abcdba%22%29%5D%3B&mode=display&origin=opt-frontend.js&cumulative=false&heapPrimitives=false&textReferences=false&py=js&rawInputLstJSON=%5B%5D&curInstr=0)"
   ]
  },
  {
   "cell_type": "markdown",
   "metadata": {},
   "source": [
    "### Notes:\n",
    "* Declare and assign looping variable, `i`, to the [`Math.floor`](https://developer.mozilla.org/en-US/docs/Web/JavaScript/Reference/Global_Objects/Math/floor) of `cleanedStr.length / 2`.\n",
    "  - For even numbers, dividing by 2 will result in a whole number.\n",
    "    + e.g. - `\"aaaa\".length / 2 === 2`, using `Math.floor` does not change the value.\n",
    "  - For odd numbers, dividing by 2 will result in a float ending in `.5`\n",
    "    + e.g. - `\"aaa\".length / 2 === 1.5`, using `Math.floor` will change the to `1`.\n",
    "* The post decrement condition for the while loop will start in the middle of the cleaned string and work towards the beginning of the cleaned string.\n",
    "  - Using the post decrement with the floor of half the length results in not checking the middle character for strings with odd lengths. This is exactly what we want because the middle character is implicity equal to itself."
   ]
  },
  {
   "cell_type": "markdown",
   "metadata": {},
   "source": [
    "## Functional:"
   ]
  },
  {
   "cell_type": "code",
   "execution_count": 6,
   "metadata": {
    "collapsed": false,
    "scrolled": true
   },
   "outputs": [
    {
     "data": {
      "text/plain": [
       "[ true, false ]"
      ]
     },
     "execution_count": 6,
     "metadata": {},
     "output_type": "execute_result"
    }
   ],
   "source": [
    "function palindrome(str) {\n",
    "    var cleanedStr = cleanString(str);\n",
    "    var splitStr = cleanedStr.split('');\n",
    "    splitStr.reverse();\n",
    "    var reversedStr = splitStr.join('');\n",
    "    return cleanedStr === reversedStr;\n",
    "}\n",
    "test(palindrome);\n",
    "[palindrome(\"Race cAr\"), palindrome(\"abcdba\")];"
   ]
  },
  {
   "cell_type": "markdown",
   "metadata": {},
   "source": [
    "[Step-By-Step](http://www.pythontutor.com/javascript.html#code=function+cleanString(str%29+%7B%0A++++return+str.toLowerCase(%29.replace(/%5CW%7C_/g,+''%29%3B%0A%7D%0A%0Afunction+palindrome(str%29+%7B%0A++++var+cleanedStr+%3D+cleanString(str%29%3B%0A++++var+splitStr+%3D+cleanedStr.split(''%29%3B%0A++++splitStr.reverse(%29%3B%0A++++var+reversedStr+%3D+splitStr.join(''%29%3B%0A++++return+cleanedStr+%3D%3D%3D+reversedStr%3B%0A%7D%0A%0A%5Bpalindrome(%22Race+cAr%22%29,+palindrome(%22abcdba%22%29%5D%3B&mode=display&origin=opt-frontend.js&cumulative=false&heapPrimitives=false&textReferences=false&py=js&rawInputLstJSON=%5B%5D&curInstr=0)"
   ]
  },
  {
   "cell_type": "code",
   "execution_count": 7,
   "metadata": {
    "collapsed": false
   },
   "outputs": [
    {
     "data": {
      "text/plain": [
       "[ true, false ]"
      ]
     },
     "execution_count": 7,
     "metadata": {},
     "output_type": "execute_result"
    }
   ],
   "source": [
    "function palindrome(str) {\n",
    "    var cleanedStr = cleanString(str);\n",
    "    return cleanedStr === cleanedStr.split('').reverse().join('');\n",
    "}\n",
    "test(palindrome);\n",
    "[palindrome(\"Race cAr\"), palindrome(\"abcdba\")];"
   ]
  },
  {
   "cell_type": "markdown",
   "metadata": {},
   "source": [
    "### Notes:\n",
    "* This is very similiar to Basic 02 - Reverse A String. We use the same functions to reverse the string.\n",
    "* Return if the reverse of the cleaned string is equal to the cleaned string."
   ]
  },
  {
   "cell_type": "markdown",
   "metadata": {},
   "source": [
    "## Recursive (Silly):"
   ]
  },
  {
   "cell_type": "code",
   "execution_count": 8,
   "metadata": {
    "collapsed": false
   },
   "outputs": [
    {
     "data": {
      "text/plain": [
       "[ true, false ]"
      ]
     },
     "execution_count": 8,
     "metadata": {},
     "output_type": "execute_result"
    }
   ],
   "source": [
    "function palindromeRecur(str) {\n",
    "    if (str.length < 2) return true;\n",
    "    return str[0] === str[str.length-1] && palindromeRecur(str.substr(1, str.length-2));\n",
    "}\n",
    "\n",
    "function palindrome(str) {\n",
    "    var cleanedStr = cleanString(str);\n",
    "    return palindromeRecur(cleanedStr);\n",
    "}\n",
    "test(palindrome);\n",
    "[palindrome(\"Race cAr\"), palindrome(\"abcdba\")];"
   ]
  },
  {
   "cell_type": "markdown",
   "metadata": {},
   "source": [
    "[Step-By-Step](http://www.pythontutor.com/javascript.html#code=function+cleanString(str%29+%7B%0A++++return+str.toLowerCase(%29.replace(/%5CW%7C_/g,+''%29%3B%0A%7D%0A%0Afunction+palindromeRecur(str%29+%7B%0A++++if+(str.length+%3C+2%29+return+true%3B%0A++++return+str%5B0%5D+%3D%3D%3D+str%5Bstr.length-1%5D+%26%26+palindromeRecur(str.substr(1,+str.length-2%29%29%3B%0A%7D%0A%0Afunction+palindrome(str%29+%7B%0A++++var+cleanedStr+%3D+cleanString(str%29%3B%0A++++return+palindromeRecur(cleanedStr%29%3B%0A%7D%0A%0A%5Bpalindrome(%22Race+cAr%22%29,+palindrome(%22abcdba%22%29%5D%3B&mode=display&origin=opt-frontend.js&cumulative=false&heapPrimitives=false&textReferences=false&py=js&rawInputLstJSON=%5B%5D&curInstr=0)"
   ]
  },
  {
   "cell_type": "markdown",
   "metadata": {},
   "source": [
    "### Notes:\n",
    "* Instead of calling `cleanString` for every recursive call, we declare the recursive function as `palindromeRecur` and call it with the cleaned string.\n",
    "* The base case used for this recursive function is `str.length < 2`. This covers empty strings (strings with even lengths) and single character strings (strings with odd lenths). If the base case is reached, the string is a palindrome, `return true`.\n",
    "* For the non-base case, we return if the first and last character of `str` are equal and if the result of calling the function on the string without the first and last characters.\n",
    "  - To get the string without the first and last letter, [`String.substr`](https://developer.mozilla.org/en-US/docs/Web/JavaScript/Reference/Global_Objects/String/substr) is used.\n",
    "    + `1` is the `start` argument.\n",
    "    + `str.length-2` is the `length` argument."
   ]
  }
 ],
 "metadata": {
  "kernelspec": {
   "display_name": "Javascript (Node.js)",
   "language": "javascript",
   "name": "javascript"
  },
  "language_info": {
   "file_extension": "js",
   "mimetype": "application/javascript",
   "name": "javascript",
   "version": "0.12.1"
  }
 },
 "nbformat": 4,
 "nbformat_minor": 0
}
