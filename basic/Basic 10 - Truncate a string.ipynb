{
 "cells": [
  {
   "cell_type": "markdown",
   "metadata": {},
   "source": [
    "# [Bonfire: Truncate a string](http://freecodecamp.com/challenges/bonfire-truncate-a-string)\n",
    "\n",
    "\n",
    "Truncate a string (first argument) if it is longer than the given maximum string length (second argument). Return the truncated string with a '...' ending.\n",
    "\n",
    "Note that the three dots at the end add to the string length.\n",
    "\n",
    "Remember to use Read-Search-Ask if you get stuck. Write your own code.\n",
    "\n",
    "Here are some helpful links:\n",
    "\n",
    "* [String.slice()](https://developer.mozilla.org/en-US/docs/Web/JavaScript/Reference/Global_Objects/String/slice)"
   ]
  },
  {
   "cell_type": "markdown",
   "metadata": {},
   "source": [
    "## Starting Code:\n",
    "```javascript\n",
    "function truncate(str, num) {\n",
    "  // Clear out that junk in your trunk\n",
    "  return str;\n",
    "}\n",
    "truncate('A-tisket a-tasket A green and yellow basket', 11);\n",
    "\n",
    "```"
   ]
  },
  {
   "cell_type": "markdown",
   "metadata": {},
   "source": [
    "## Tests"
   ]
  },
  {
   "cell_type": "code",
   "execution_count": 1,
   "metadata": {
    "collapsed": false
   },
   "outputs": [
    {
     "data": {
      "text/plain": [
       "undefined"
      ]
     },
     "execution_count": 1,
     "metadata": {},
     "output_type": "execute_result"
    }
   ],
   "source": [
    "var assert = require('chai').assert;\n",
    "function test(fn) {\n",
    "    assert.strictEqual(fn('A-tisket a-tasket A green and yellow basket', 11), 'A-tisket...');\n",
    "    assert.strictEqual(fn('Peter Piper picked a peck of pickled peppers', 14), 'Peter Piper...');\n",
    "    assert.strictEqual(fn('A-tisket a-tasket A green and yellow basket', 'A-tisket a-tasket A green and yellow basket'.length), 'A-tisket a-tasket A green and yellow basket', 'should not truncate if string is = length');\n",
    "    assert.strictEqual(fn('A-tisket a-tasket A green and yellow basket', 'A-tisket a-tasket A green and yellow basket'.length + 2), 'A-tisket a-tasket A green and yellow basket', 'should not truncate if string is < length');\n",
    "    return true\n",
    "}"
   ]
  },
  {
   "cell_type": "markdown",
   "metadata": {},
   "source": [
    "## For loop:"
   ]
  },
  {
   "cell_type": "code",
   "execution_count": 2,
   "metadata": {
    "collapsed": false,
    "scrolled": true
   },
   "outputs": [
    {
     "data": {
      "text/plain": [
       "'A-tisket...'"
      ]
     },
     "execution_count": 2,
     "metadata": {},
     "output_type": "execute_result"
    }
   ],
   "source": [
    "function truncate(str, num) {\n",
    "    if (str.length <= num) return str;\n",
    "    var result = '';\n",
    "    for (var i = 0; i < num-3; i++) {\n",
    "        result += str.charAt(i);\n",
    "    }\n",
    "    return result + '...';\n",
    "}\n",
    "truncate('A-tisket a-tasket A green and yellow basket', 11);"
   ]
  },
  {
   "cell_type": "code",
   "execution_count": 3,
   "metadata": {
    "collapsed": false
   },
   "outputs": [
    {
     "data": {
      "text/plain": [
       "true"
      ]
     },
     "execution_count": 3,
     "metadata": {},
     "output_type": "execute_result"
    }
   ],
   "source": [
    "test(truncate);"
   ]
  },
  {
   "cell_type": "markdown",
   "metadata": {},
   "source": [
    "[Step-By-Step](http://www.pythontutor.com/javascript.html#code=function+truncate(str,+num%29+%7B%0A++++if+(str.length+%3C%3D+num%29+return+str%3B%0A++++var+result+%3D+''%3B%0A++++for+(var+i+%3D+0%3B+i+%3C+num-3%3B+i%2B%2B%29+%7B%0A++++++++result+%2B%3D+str.charAt(i%29%3B%0A++++%7D%0A++++return+result+%2B+'...'%3B%0A%7D%0A%0Atruncate('A-tisket+a-tasket+A+green+and+yellow+basket',+11%29%3B&mode=display&origin=opt-frontend.js&cumulative=false&heapPrimitives=false&textReferences=false&py=js&rawInputLstJSON=%5B%5D&curInstr=0)"
   ]
  },
  {
   "cell_type": "markdown",
   "metadata": {},
   "source": [
    "### Notes:\n",
    "* Shortcut `return str` if `str.length` is less than or equal to `num`.\n",
    "* Take into account that the ellipsis, `...`, itself is 3 characters.\n",
    "* For loop iterates `num-3` times and appends `str.charAt(i)` to a variable, `result`, with starting value `''`.\n",
    "* `return result + \"...\"`."
   ]
  },
  {
   "cell_type": "markdown",
   "metadata": {},
   "source": [
    "## While loop:"
   ]
  },
  {
   "cell_type": "code",
   "execution_count": 4,
   "metadata": {
    "collapsed": false
   },
   "outputs": [
    {
     "data": {
      "text/plain": [
       "'A-tisket...'"
      ]
     },
     "execution_count": 4,
     "metadata": {},
     "output_type": "execute_result"
    }
   ],
   "source": [
    "function truncate(str, num) {\n",
    "    if (str.length <= num) return str;\n",
    "    var result = '';\n",
    "    var i = -1;\n",
    "    while(++i < num-3) {\n",
    "        result += str.charAt(i);\n",
    "    }\n",
    "    return result + '...';\n",
    "}\n",
    "truncate('A-tisket a-tasket A green and yellow basket', 11);"
   ]
  },
  {
   "cell_type": "code",
   "execution_count": 5,
   "metadata": {
    "collapsed": false
   },
   "outputs": [
    {
     "data": {
      "text/plain": [
       "true"
      ]
     },
     "execution_count": 5,
     "metadata": {},
     "output_type": "execute_result"
    }
   ],
   "source": [
    "test(truncate);"
   ]
  },
  {
   "cell_type": "markdown",
   "metadata": {},
   "source": [
    "[Step-By-Step](http://www.pythontutor.com/javascript.html#code=function+repeat(str,+num%29+%7B%0A++++var+result+%3D+''%3B%0A++++while+(num--+%3E+0%29+%7B%0A++++++++result+%2B%3D+str%3B%0A++++%7D%0A++++return+result%3B%0A%7D%0A%0Arepeat('abc',+3%29%3B&mode=display&origin=opt-frontend.js&cumulative=false&heapPrimitives=false&textReferences=false&py=js&rawInputLstJSON=%5B%5D&curInstr=0)"
   ]
  },
  {
   "cell_type": "markdown",
   "metadata": {},
   "source": [
    "## Functional:"
   ]
  },
  {
   "cell_type": "code",
   "execution_count": 6,
   "metadata": {
    "collapsed": false
   },
   "outputs": [
    {
     "data": {
      "text/plain": [
       "'A-tisket...'"
      ]
     },
     "execution_count": 6,
     "metadata": {},
     "output_type": "execute_result"
    }
   ],
   "source": [
    "function truncate(str, num) {\n",
    "    if (str.length <= num) return str;\n",
    "    var truncated = str.substring(0, num-3);\n",
    "    return truncated + \"...\";\n",
    "}\n",
    "truncate('A-tisket a-tasket A green and yellow basket', 11);"
   ]
  },
  {
   "cell_type": "code",
   "execution_count": 7,
   "metadata": {
    "collapsed": false
   },
   "outputs": [
    {
     "data": {
      "text/plain": [
       "true"
      ]
     },
     "execution_count": 7,
     "metadata": {},
     "output_type": "execute_result"
    }
   ],
   "source": [
    "test(truncate);"
   ]
  },
  {
   "cell_type": "markdown",
   "metadata": {},
   "source": [
    "[Step-By-Step](http://www.pythontutor.com/javascript.html#code=function+truncate(str,+num%29+%7B%0A++++if+(str.length+%3C%3D+num%29+return+str%3B%0A++++var+truncated+%3D+str.substring(0,+num-3%29%3B%0A++++return+truncated+%2B+%22...%22%3B%0A%7D%0A%0Atruncate('A-tisket+a-tasket+A+green+and+yellow+basket',+11%29%3B&mode=display&origin=opt-frontend.js&cumulative=false&heapPrimitives=false&textReferences=false&py=js&rawInputLstJSON=%5B%5D&curInstr=0)"
   ]
  },
  {
   "cell_type": "code",
   "execution_count": 8,
   "metadata": {
    "collapsed": false
   },
   "outputs": [
    {
     "data": {
      "text/plain": [
       "'A-tisket...'"
      ]
     },
     "execution_count": 8,
     "metadata": {},
     "output_type": "execute_result"
    }
   ],
   "source": [
    "function truncate(str, num) {\n",
    "  return str.length > num ? str.substring(0, num-3) + \"...\" : str;\n",
    "}\n",
    "truncate('A-tisket a-tasket A green and yellow basket', 11);"
   ]
  },
  {
   "cell_type": "code",
   "execution_count": 9,
   "metadata": {
    "collapsed": false
   },
   "outputs": [
    {
     "data": {
      "text/plain": [
       "true"
      ]
     },
     "execution_count": 9,
     "metadata": {},
     "output_type": "execute_result"
    }
   ],
   "source": [
    "test(truncate);"
   ]
  }
 ],
 "metadata": {
  "kernelspec": {
   "display_name": "Javascript (Node.js)",
   "language": "javascript",
   "name": "javascript"
  },
  "language_info": {
   "file_extension": "js",
   "mimetype": "application/javascript",
   "name": "javascript",
   "version": "0.12.1"
  }
 },
 "nbformat": 4,
 "nbformat_minor": 0
}
