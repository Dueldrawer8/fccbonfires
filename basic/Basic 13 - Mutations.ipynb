{
 "cells": [
  {
   "cell_type": "markdown",
   "metadata": {},
   "source": [
    "# [Bonfire: Mutations](http://freecodecamp.com/challenges/bonfire-mutations)\n",
    "\n",
    "Return true if the string in the first element of the array contains all of the letters of the string in the second element of the array.\n",
    "\n",
    "For example, `['hello', 'Hello']`, should return true because all of the letters in the second string are present in the first, ignoring case.\n",
    "\n",
    "The arguments `['hello', 'hey']` should return false because the string 'hello' does not contain a `'y'`.\n",
    "\n",
    "Lastly, `['Alien', 'line']`, should return true because all of the letters in 'line' are present in `'Alien'`.\n",
    "\n",
    "Remember to use Read-Search-Ask if you get stuck. Write your own code.\n",
    "\n",
    "Here are some helpful links:\n",
    "\n",
    "* [Array.indexOf()](https://developer.mozilla.org/en-US/docs/Web/JavaScript/Reference/Global_Objects/Array/indexOf)"
   ]
  },
  {
   "cell_type": "markdown",
   "metadata": {},
   "source": [
    "## Starting Code:\n",
    "```javascript\n",
    "function mutation(arr) {\n",
    "  return arr;\n",
    "}\n",
    "mutation(['hello', 'hey']);\n",
    "\n",
    "```"
   ]
  },
  {
   "cell_type": "markdown",
   "metadata": {},
   "source": [
    "## Tests"
   ]
  },
  {
   "cell_type": "code",
   "execution_count": 1,
   "metadata": {
    "collapsed": false
   },
   "outputs": [
    {
     "data": {
      "text/plain": [
       "undefined"
      ]
     },
     "execution_count": 1,
     "metadata": {},
     "output_type": "execute_result"
    }
   ],
   "source": [
    "var assert = require('chai').assert;\n",
    "function test(fn) {\n",
    "    assert.isFalse(fn(['hello', 'hey']));\n",
    "    assert.isTrue(fn(['hello', 'Hello']));\n",
    "    assert.isTrue(fn(['zyxwvutsrqponmlkjihgfedcba', 'qrstu']));\n",
    "    assert.isTrue(fn(['Mary', 'Army']));\n",
    "    assert.isTrue(fn(['Mary', 'Aarmy']));\n",
    "    assert.isTrue(fn(['Alien', 'line']));\n",
    "    assert.isTrue(fn(['floor', 'for']));\n",
    "    assert.isFalse(fn(['hello', 'neo']));\n",
    "    return true\n",
    "}"
   ]
  },
  {
   "cell_type": "markdown",
   "metadata": {},
   "source": [
    "## For loop:"
   ]
  },
  {
   "cell_type": "code",
   "execution_count": 2,
   "metadata": {
    "collapsed": false,
    "scrolled": true
   },
   "outputs": [
    {
     "data": {
      "text/plain": [
       "false"
      ]
     },
     "execution_count": 2,
     "metadata": {},
     "output_type": "execute_result"
    }
   ],
   "source": [
    "function mutation(arr) {\n",
    "    var haystack = arr[0].toLowerCase();\n",
    "    var needles = arr[1].toLowerCase();\n",
    "    for (var i = 0; i < needles.length; i++) {\n",
    "        var needle = needles.charAt(i);\n",
    "        var found = false;\n",
    "        for (var j = 0; j < haystack.length; j++) {\n",
    "            if (needle === haystack.charAt(j)) {\n",
    "                found = true;\n",
    "                break;\n",
    "            }\n",
    "        }\n",
    "        if (!found) {\n",
    "            return false;\n",
    "        }\n",
    "    }\n",
    "    return true;\n",
    "}\n",
    "mutation(['hello', 'hey']);"
   ]
  },
  {
   "cell_type": "code",
   "execution_count": 3,
   "metadata": {
    "collapsed": false
   },
   "outputs": [
    {
     "data": {
      "text/plain": [
       "true"
      ]
     },
     "execution_count": 3,
     "metadata": {},
     "output_type": "execute_result"
    }
   ],
   "source": [
    "test(mutation);"
   ]
  },
  {
   "cell_type": "markdown",
   "metadata": {},
   "source": [
    "[Step-By-Step](http://www.pythontutor.com/javascript.html#code=function+mutation(arr%29+%7B%0A++++var+haystack+%3D+arr%5B0%5D.toLowerCase(%29%3B%0A++++var+needles+%3D+arr%5B1%5D.toLowerCase(%29%3B%0A++++for+(var+i+%3D+0%3B+i+%3C+needles.length%3B+i%2B%2B%29+%7B%0A++++++++var+needle+%3D+needles.charAt(i%29%3B%0A++++++++var+found+%3D+false%3B%0A++++++++for+(var+j+%3D+0%3B+j+%3C+haystack.length%3B+j%2B%2B%29+%7B%0A++++++++++++if+(needle+%3D%3D%3D+haystack.charAt(j%29%29+%7B%0A++++++++++++++++found+%3D+true%3B%0A++++++++++++++++break%3B%0A++++++++++++%7D%0A++++++++%7D%0A++++++++if+(!found%29+%7B%0A++++++++++++return+false%3B%0A++++++++%7D%0A++++%7D%0A++++return+true%3B%0A%7D%0A%0Amutation(%5B'hello',+'hey'%5D%29%3B&mode=display&origin=opt-frontend.js&cumulative=false&heapPrimitives=false&textReferences=false&py=js&rawInputLstJSON=%5B%5D&curInstr=0)"
   ]
  },
  {
   "cell_type": "markdown",
   "metadata": {},
   "source": [
    "### Notes:\n",
    "* Create the variables, `needles` and `haystack`, and assign them the `.toLowerCase` values from `arr`.\n",
    "* Outer for loop iterates over the characters of `needles`.\n",
    "* Inner for loop iterates over the characters of `haystack`.\n",
    "  - Start with a variable, `found`, equal to `false`.\n",
    "  - If `needle` is equal to any of the items in `haystack`, set `found` to `true` and `break` from the inner loop.\n",
    "  - After the inner for loop finishes, either from completion or from the `break`, check the value of `found`. If found is `false`, `return false`. Otherwise continue to the next iteration of the outer for loop.\n",
    "* When the outer for loop completes, if the function has not yet returned false, that means that `needles` is a mutation of `haystack`, `return true`."
   ]
  },
  {
   "cell_type": "code",
   "execution_count": 4,
   "metadata": {
    "collapsed": false
   },
   "outputs": [
    {
     "data": {
      "text/plain": [
       "false"
      ]
     },
     "execution_count": 4,
     "metadata": {},
     "output_type": "execute_result"
    }
   ],
   "source": [
    "function mutation(arr) {\n",
    "    var haystack = arr[0].toLowerCase();\n",
    "    var needles = arr[1].toLowerCase();\n",
    "    for (var i = 0; i < needles.length; i++) {\n",
    "        var found = false;\n",
    "        for (var j = 0; !found && j < haystack.length; j++) {\n",
    "            if (needles.charAt(i) === haystack.charAt(j)) {\n",
    "                found = true;\n",
    "            }\n",
    "        }\n",
    "        if (!found) return false;\n",
    "    }\n",
    "    return true;\n",
    "}\n",
    "mutation(['hello', 'hey']);"
   ]
  },
  {
   "cell_type": "code",
   "execution_count": 5,
   "metadata": {
    "collapsed": false
   },
   "outputs": [
    {
     "data": {
      "text/plain": [
       "true"
      ]
     },
     "execution_count": 5,
     "metadata": {},
     "output_type": "execute_result"
    }
   ],
   "source": [
    "test(mutation);"
   ]
  },
  {
   "cell_type": "markdown",
   "metadata": {},
   "source": [
    "## Functional:"
   ]
  },
  {
   "cell_type": "code",
   "execution_count": 6,
   "metadata": {
    "collapsed": false
   },
   "outputs": [
    {
     "data": {
      "text/plain": [
       "false"
      ]
     },
     "execution_count": 6,
     "metadata": {},
     "output_type": "execute_result"
    }
   ],
   "source": [
    "function mutation(arr) {\n",
    "    var haystack = arr[0].toLowerCase();;\n",
    "    var needles = arr[1].toLowerCase().split('');\n",
    "    return needles.every(function(needle) {\n",
    "        return haystack.indexOf(needle) > -1;\n",
    "    });\n",
    "}\n",
    "mutation(['hello', 'hey']);"
   ]
  },
  {
   "cell_type": "code",
   "execution_count": 7,
   "metadata": {
    "collapsed": false,
    "scrolled": true
   },
   "outputs": [
    {
     "data": {
      "text/plain": [
       "true"
      ]
     },
     "execution_count": 7,
     "metadata": {},
     "output_type": "execute_result"
    }
   ],
   "source": [
    "test(mutation);"
   ]
  },
  {
   "cell_type": "markdown",
   "metadata": {},
   "source": [
    "[Step-By-Step](http://www.pythontutor.com/javascript.html#code=function+mutation(arr%29+%7B%0A++++var+haystack+%3D+arr%5B0%5D.toLowerCase(%29%3B%3B%0A++++var+needles+%3D+arr%5B1%5D.toLowerCase(%29.split(''%29%3B%0A++++return+needles.every(function(needle%29+%7B%0A++++++++return+haystack.indexOf(needle%29+%3E+-1%3B%0A++++%7D%29%3B%0A%7D%0A%0Amutation(%5B'hello',+'hey'%5D%29%3B&mode=display&origin=opt-frontend.js&cumulative=false&heapPrimitives=false&textReferences=false&py=js&rawInputLstJSON=%5B%5D&curInstr=0)"
   ]
  },
  {
   "cell_type": "code",
   "execution_count": 8,
   "metadata": {
    "collapsed": false
   },
   "outputs": [
    {
     "data": {
      "text/plain": [
       "false"
      ]
     },
     "execution_count": 8,
     "metadata": {},
     "output_type": "execute_result"
    }
   ],
   "source": [
    "function mutation(arr) {\n",
    "    var haystack = arr[0].toLowerCase();;\n",
    "    return arr[1]\n",
    "        .toLowerCase()\n",
    "        .split('')\n",
    "        .every(function(needle) {return haystack.indexOf(needle) > -1;});\n",
    "}\n",
    "mutation(['hello', 'hey']);"
   ]
  },
  {
   "cell_type": "code",
   "execution_count": 9,
   "metadata": {
    "collapsed": false,
    "scrolled": true
   },
   "outputs": [
    {
     "data": {
      "text/plain": [
       "true"
      ]
     },
     "execution_count": 9,
     "metadata": {},
     "output_type": "execute_result"
    }
   ],
   "source": [
    "test(mutation);"
   ]
  },
  {
   "cell_type": "markdown",
   "metadata": {},
   "source": [
    "### Notes:\n",
    "* Check that all letters of `arr[1]` are in `arr[0]` by splitting `arr[1]` and using [`.every`](https://developer.mozilla.org/en-US/docs/Web/JavaScript/Reference/Global_Objects/Array/every).\n",
    "* The callback function for `.every` uses [`.indexOf`](https://developer.mozilla.org/en-US/docs/Web/JavaScript/Reference/Global_Objects/Array/indexOf) to check if the char is in `haystack`."
   ]
  }
 ],
 "metadata": {
  "kernelspec": {
   "display_name": "Javascript (Node.js)",
   "language": "javascript",
   "name": "javascript"
  },
  "language_info": {
   "file_extension": "js",
   "mimetype": "application/javascript",
   "name": "javascript",
   "version": "0.12.1"
  }
 },
 "nbformat": 4,
 "nbformat_minor": 0
}
