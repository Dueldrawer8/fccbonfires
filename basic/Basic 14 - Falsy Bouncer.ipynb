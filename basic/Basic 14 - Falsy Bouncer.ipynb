{
 "cells": [
  {
   "cell_type": "markdown",
   "metadata": {},
   "source": [
    "# [Bonfire: Falsy Bouncer](http://freecodecamp.com/challenges/bonfire-falsy-bouncer)\n",
    "\n",
    "Remove all falsy values from an array.\n",
    "\n",
    "Falsy values in javascript are false, null, 0, \"\", undefined, and NaN.\n",
    "\n",
    "Remember to use Read-Search-Ask if you get stuck. Write your own code.\n",
    "\n",
    "Here are some helpful links:\n",
    "\n",
    "* [Boolean Objects](https://developer.mozilla.org/en-US/docs/Web/JavaScript/Reference/Global_Objects/Boolean)\n",
    "* [Array.filter()](https://developer.mozilla.org/en-US/docs/Web/JavaScript/Reference/Global_Objects/Array/filter)"
   ]
  },
  {
   "cell_type": "markdown",
   "metadata": {},
   "source": [
    "## Starting Code:\n",
    "```javascript\n",
    "function bouncer(arr) {\n",
    "  // Don't show a false ID to this bouncer.\n",
    "  return arr;\n",
    "}\n",
    "bouncer([7, 'ate', '', false, 9]);\n",
    "\n",
    "```"
   ]
  },
  {
   "cell_type": "markdown",
   "metadata": {},
   "source": [
    "## Tests"
   ]
  },
  {
   "cell_type": "code",
   "execution_count": 1,
   "metadata": {
    "collapsed": false
   },
   "outputs": [
    {
     "data": {
      "text/plain": [
       "undefined"
      ]
     },
     "execution_count": 1,
     "metadata": {},
     "output_type": "execute_result"
    }
   ],
   "source": [
    "var assert = require('chai').assert;\n",
    "function test(fn) {\n",
    "    assert.deepEqual(fn([7, 'ate', '', false, 9]), [7, 'ate', 9], 'should remove falsy values');\n",
    "    assert.deepEqual(fn(['a', 'b', 'c']), ['a', 'b', 'c'], 'should return full array if no falsy elements');\n",
    "    assert.deepEqual(fn([false, null, 0, NaN, undefined, '']), [], 'should return empty array if all elements are falsy');\n",
    "    return true\n",
    "}"
   ]
  },
  {
   "cell_type": "markdown",
   "metadata": {},
   "source": [
    "## For loop:"
   ]
  },
  {
   "cell_type": "code",
   "execution_count": 2,
   "metadata": {
    "collapsed": false,
    "scrolled": true
   },
   "outputs": [
    {
     "data": {
      "text/plain": [
       "[ 7, 'ate', 9 ]"
      ]
     },
     "execution_count": 2,
     "metadata": {},
     "output_type": "execute_result"
    }
   ],
   "source": [
    "function bouncer(arr) {\n",
    "    var result = [];\n",
    "    for (var i = 0; i < arr.length; i++) {\n",
    "        if (arr[i]) {\n",
    "            result.push(arr[i]);\n",
    "        }\n",
    "    }\n",
    "    return result;\n",
    "}\n",
    "bouncer([7, 'ate', '', false, 9]);"
   ]
  },
  {
   "cell_type": "code",
   "execution_count": 3,
   "metadata": {
    "collapsed": false
   },
   "outputs": [
    {
     "data": {
      "text/plain": [
       "true"
      ]
     },
     "execution_count": 3,
     "metadata": {},
     "output_type": "execute_result"
    }
   ],
   "source": [
    "test(bouncer);"
   ]
  },
  {
   "cell_type": "markdown",
   "metadata": {},
   "source": [
    "[Step-By-Step](http://www.pythontutor.com/javascript.html#code=function+bouncer(arr%29+%7B%0A++++var+result+%3D+%5B%5D%3B%0A++++for+(var+i+%3D+0%3B+i+%3C+arr.length%3B+i%2B%2B%29+%7B%0A++++++++if+(arr%5Bi%5D%29+%7B%0A++++++++++++result.push(arr%5Bi%5D%29%3B%0A++++++++%7D%0A++++%7D%0A++++return+result%3B%0A%7D%0A%0Abouncer(%5B7,+'ate',+'',+false,+9%5D%29%3B&mode=display&origin=opt-frontend.js&cumulative=false&heapPrimitives=false&textReferences=false&py=js&rawInputLstJSON=%5B%5D&curInstr=0)"
   ]
  },
  {
   "cell_type": "markdown",
   "metadata": {},
   "source": [
    "### Notes:\n",
    "* Declare and assign a variable, `result`, with an empty array, `[]`.\n",
    "* For loop iterates over `arr` and adds elements that are [`truthy`](https://developer.mozilla.org/en-US/docs/Glossary/Truthy) to `result` using `.push`. Also see [`falsy`](https://developer.mozilla.org/en-US/docs/Glossary/Falsy).\n",
    "  - Note that there is no comparison used for the `if` conditional. The `if` statement will automatically check for `truthy` or `falsy` ness."
   ]
  },
  {
   "cell_type": "markdown",
   "metadata": {},
   "source": [
    "## Functional:"
   ]
  },
  {
   "cell_type": "code",
   "execution_count": 4,
   "metadata": {
    "collapsed": false
   },
   "outputs": [
    {
     "data": {
      "text/plain": [
       "[ 7, 'ate', 9 ]"
      ]
     },
     "execution_count": 4,
     "metadata": {},
     "output_type": "execute_result"
    }
   ],
   "source": [
    "function bouncer(arr) {\n",
    "    return arr.filter(function(element) { return element; });\n",
    "}\n",
    "bouncer([7, 'ate', '', false, 9]);"
   ]
  },
  {
   "cell_type": "code",
   "execution_count": 5,
   "metadata": {
    "collapsed": false,
    "scrolled": true
   },
   "outputs": [
    {
     "data": {
      "text/plain": [
       "true"
      ]
     },
     "execution_count": 5,
     "metadata": {},
     "output_type": "execute_result"
    }
   ],
   "source": [
    "test(bouncer);"
   ]
  },
  {
   "cell_type": "markdown",
   "metadata": {},
   "source": [
    "[Step-By-Step](http://www.pythontutor.com/javascript.html#code=function+bouncer(arr%29+%7B%0A++++return+arr.filter(function(element%29+%7B+return+element%3B+%7D%29%3B%0A%7D%0A%0Abouncer(%5B7,+'ate',+'',+false,+9%5D%29%3B&mode=display&origin=opt-frontend.js&cumulative=false&heapPrimitives=false&textReferences=false&py=js&rawInputLstJSON=%5B%5D&curInstr=0)"
   ]
  },
  {
   "cell_type": "markdown",
   "metadata": {},
   "source": [
    "### Notes:\n",
    "* Return the result of using `Array.filter` with an [`identity`](https://en.wikipedia.org/wiki/Identity_function) callback function, a function that returns the value that it was called with.\n",
    "* Filter will evaluate the callback's returned values as `truthy` or `falsy`."
   ]
  },
  {
   "cell_type": "code",
   "execution_count": 6,
   "metadata": {
    "collapsed": false
   },
   "outputs": [
    {
     "data": {
      "text/plain": [
       "[ 7, 'ate', 9 ]"
      ]
     },
     "execution_count": 6,
     "metadata": {},
     "output_type": "execute_result"
    }
   ],
   "source": [
    "function bouncer(arr) {\n",
    "    return arr.filter(Boolean);\n",
    "}\n",
    "bouncer([7, 'ate', '', false, 9]);"
   ]
  },
  {
   "cell_type": "code",
   "execution_count": 7,
   "metadata": {
    "collapsed": false,
    "scrolled": true
   },
   "outputs": [
    {
     "data": {
      "text/plain": [
       "true"
      ]
     },
     "execution_count": 7,
     "metadata": {},
     "output_type": "execute_result"
    }
   ],
   "source": [
    "test(bouncer);"
   ]
  },
  {
   "cell_type": "markdown",
   "metadata": {},
   "source": [
    "### Notes:\n",
    "* Instead of having an anonymous callback function just return the value and letting `.filter` evaluate the value for `truthy` or `falsy`, this solution uses the built-in [`Boolean`](https://developer.mozilla.org/en-US/docs/Web/JavaScript/Reference/Global_Objects/Boolean#Description) function as the callback function.\n",
    "  - Note that we don't use the `Boolean` constructor. We are using the `Boolean` function."
   ]
  }
 ],
 "metadata": {
  "kernelspec": {
   "display_name": "Javascript (Node.js)",
   "language": "javascript",
   "name": "javascript"
  },
  "language_info": {
   "file_extension": "js",
   "mimetype": "application/javascript",
   "name": "javascript",
   "version": "0.12.1"
  }
 },
 "nbformat": 4,
 "nbformat_minor": 0
}
