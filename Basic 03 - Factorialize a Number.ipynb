{
 "cells": [
  {
   "cell_type": "markdown",
   "metadata": {},
   "source": [
    "# [Bonfire: Factorialize a Number](http://www.freecodecamp.com/challenges/bonfire-factorialize-a-number)\n",
    "\n",
    "Return the factorial of the provided integer.\n",
    "\n",
    "If the integer is represented with the letter $n$, a factorial is the product of all positive integers less than or equal to $n$.\n",
    "\n",
    "Factorials are often represented with the shorthand notation $n!$\n",
    "\n",
    "For example: $5! = 1 \\times 2 \\times 3 \\times 4 \\times 5 = 120$\n",
    "\n",
    "Remember to use Read-Search-Ask if you get stuck. Write your own code.\n",
    "\n",
    "Here are some helpful links:\n",
    "\n",
    "* [Arithmetic Operators](https://developer.mozilla.org/en-US/docs/Web/JavaScript/Reference/Operators/Arithmetic_Operators)"
   ]
  },
  {
   "cell_type": "markdown",
   "metadata": {},
   "source": [
    "## Starting Code:\n",
    "```javascript\n",
    "function factorialize(num) {\n",
    "  return num;\n",
    "}\n",
    "factorialize(5);\n",
    "```"
   ]
  },
  {
   "cell_type": "markdown",
   "metadata": {},
   "source": [
    "## Tests"
   ]
  },
  {
   "cell_type": "code",
   "execution_count": 1,
   "metadata": {
    "collapsed": false
   },
   "outputs": [
    {
     "data": {
      "text/plain": [
       "undefined"
      ]
     },
     "execution_count": 1,
     "metadata": {},
     "output_type": "execute_result"
    }
   ],
   "source": [
    "var assert = require('chai').assert;\n",
    "function test(fn) {\n",
    "    assert.typeOf(factorialize(5), 'number');\n",
    "    assert.deepEqual(factorialize(5), 120);\n",
    "    assert.deepEqual(factorialize(10), 3628800);\n",
    "    assert.deepEqual(factorialize(20), 2432902008176640000);\n",
    "    return true\n",
    "}"
   ]
  },
  {
   "cell_type": "markdown",
   "metadata": {},
   "source": [
    "## For loop:"
   ]
  },
  {
   "cell_type": "code",
   "execution_count": 2,
   "metadata": {
    "collapsed": false
   },
   "outputs": [
    {
     "data": {
      "text/plain": [
       "120"
      ]
     },
     "execution_count": 2,
     "metadata": {},
     "output_type": "execute_result"
    }
   ],
   "source": [
    "function factorialize(num) {\n",
    "  if (num < 0) return undefined;\n",
    "  var result = 1;\n",
    "  for (var i = 2; i <= num; i++) {\n",
    "      result *= i;\n",
    "  }\n",
    "  return result;\n",
    "}\n",
    "test(factorialize);\n",
    "factorialize(5);"
   ]
  },
  {
   "cell_type": "markdown",
   "metadata": {},
   "source": [
    "[Step-By-Step](http://www.pythontutor.com/javascript.html#code=function+factorialize(num%29+%7B%0A++if+(num+%3C+0%29+return+undefined%3B%0A++var+result+%3D+1%3B%0A++for+(var+i+%3D+2%3B+i+%3C%3D+num%3B+i%2B%2B%29+%7B%0A++++++result+*%3D+i%3B%0A++%7D%0A++return+result%0A%7D%0Afactorialize(5%29%3B&mode=display&origin=opt-frontend.js&cumulative=false&heapPrimitives=false&textReferences=false&py=js&rawInputLstJSON=%5B%5D&curInstr=0)"
   ]
  },
  {
   "cell_type": "markdown",
   "metadata": {},
   "source": [
    "### Notes:\n",
    "* The factorial of a negative number is `undefined`.\n",
    "* Create variable to hold the `result`, assign `1` as the starting value.\n",
    "* Use a for loop iterating `i` starting at at `2` to `num`.\n",
    "  - By starting at `i = 2` for values of `0` and `1` the for loop condition is not satisfies so the for loop code is passed over and never run.\n",
    "* In the for loop, assign result to the value of `result * i`. We use `*=` the operator shorthand.\n",
    "* Return the result."
   ]
  },
  {
   "cell_type": "markdown",
   "metadata": {},
   "source": [
    "## While loop:"
   ]
  },
  {
   "cell_type": "code",
   "execution_count": 3,
   "metadata": {
    "collapsed": false
   },
   "outputs": [
    {
     "data": {
      "text/plain": [
       "120"
      ]
     },
     "execution_count": 3,
     "metadata": {},
     "output_type": "execute_result"
    }
   ],
   "source": [
    "function factorialize(num) {\n",
    "  if (num < 0) return undefined;\n",
    "  if (num === 0) return 1;\n",
    "  var result = num;\n",
    "  while(--num) {\n",
    "      result *= num;\n",
    "  }\n",
    "  return result;\n",
    "}\n",
    "test(factorialize);\n",
    "factorialize(5);"
   ]
  },
  {
   "cell_type": "markdown",
   "metadata": {},
   "source": [
    "[Step-By-Step](http://www.pythontutor.com/javascript.html#code=function+factorialize(num%29+%7B%0A++if+(num+%3C+0%29+return+undefined%3B%0A++if+(num+%3D%3D%3D+0%29+return+1%3B%0A++var+result+%3D+num%3B%0A++while(--num%29+%7B%0A++++++result+*%3D+num%3B%0A++%7D%0A++return+result%3B%0A%7D%0Afactorialize(5%29%3B&mode=display&origin=opt-frontend.js&cumulative=false&heapPrimitives=false&textReferences=false&py=js&rawInputLstJSON=%5B%5D&curInstr=0)"
   ]
  },
  {
   "cell_type": "markdown",
   "metadata": {},
   "source": [
    "### Notes:\n",
    "* The factorial of a negative number is `undefined`.\n",
    "* Create variable to hold the `result`, assign `num` as the starting value.\n",
    "* We do will use `num` as our looping variable.\n",
    "* Use a while loops with the conditon of `--num`.\n",
    "  - By using a pre decrement inside the while conditional, `num`'s value is decremented before checking the conditional.\n",
    "  - This means code inside the loop will not run when `num` reaches `0`.\n",
    "* In the for loop, assign result to the value of `result * num`. We use `*=` the operator shorthand.\n",
    "* Return the result."
   ]
  },
  {
   "cell_type": "markdown",
   "metadata": {},
   "source": [
    "## Recursive"
   ]
  },
  {
   "cell_type": "code",
   "execution_count": 4,
   "metadata": {
    "collapsed": false
   },
   "outputs": [
    {
     "data": {
      "text/plain": [
       "120"
      ]
     },
     "execution_count": 4,
     "metadata": {},
     "output_type": "execute_result"
    }
   ],
   "source": [
    "function factorialize(num) {\n",
    "    if (num < 0) return undefined;\n",
    "    if (num === 0) return 1;\n",
    "    if (num < 3) return num;\n",
    "    return num * factorialize(num-1);\n",
    "}\n",
    "test(factorialize);\n",
    "factorialize(5);"
   ]
  },
  {
   "cell_type": "markdown",
   "metadata": {},
   "source": [
    "[Step-By-Step](http://www.pythontutor.com/javascript.html#code=function+factorialize(num%29+%7B%0A++++if+(num+%3C+0%29+return+undefined%3B%0A++++if+(num+%3D%3D%3D+0%29+return+1%3B%0A++++if+(num+%3C+3%29+return+num%3B%0A++++return+num+*+factorialize(num-1%29%3B%0A%7D%0Afactorialize(5%29%3B&mode=display&origin=opt-frontend.js&cumulative=false&heapPrimitives=false&textReferences=false&py=js&rawInputLstJSON=%5B%5D&curInstr=0)"
   ]
  },
  {
   "cell_type": "code",
   "execution_count": 5,
   "metadata": {
    "collapsed": false
   },
   "outputs": [
    {
     "data": {
      "text/plain": [
       "120"
      ]
     },
     "execution_count": 5,
     "metadata": {},
     "output_type": "execute_result"
    }
   ],
   "source": [
    "function factorialize(num) {\n",
    "  if (num < 0) return undefined;\n",
    "  if (num === 0) return 1;\n",
    "  return num < 3 ? num : num * factorialize(num-1);\n",
    "}\n",
    "test(factorialize);\n",
    "factorialize(5);"
   ]
  },
  {
   "cell_type": "markdown",
   "metadata": {},
   "source": [
    "### Notes:\n",
    "* This solution uses [recursion](https://developer.mozilla.org/en-US/docs/Glossary/Recursion).\n",
    "* The `?` is a [conditional or ternary](https://developer.mozilla.org/en-US/docs/Web/JavaScript/Reference/Operators/Conditional_Operator) operator.\n",
    "* There are two special cases for this recursive function:\n",
    "  - If `num < 0`, `return undefined`.\n",
    "  - If `num === 0`, `return 1`.\n",
    "* The base case used for this recursive function is `num < 3`. For the base case we return `num`.\n",
    "* For the non-base case, we return the result of calling the function on `n - 1` times `n`."
   ]
  }
 ],
 "metadata": {
  "kernelspec": {
   "display_name": "Javascript (Node.js)",
   "language": "javascript",
   "name": "javascript"
  },
  "language_info": {
   "file_extension": "js",
   "mimetype": "application/javascript",
   "name": "javascript",
   "version": "0.12.1"
  }
 },
 "nbformat": 4,
 "nbformat_minor": 0
}
